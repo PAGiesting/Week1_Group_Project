{
  "nbformat": 4,
  "nbformat_minor": 0,
  "metadata": {
    "colab": {
      "name": "LocatorCode.ipynb",
      "provenance": [],
      "collapsed_sections": []
    },
    "kernelspec": {
      "name": "python3",
      "display_name": "Python 3"
    }
  },
  "cells": [
    {
      "cell_type": "code",
      "metadata": {
        "id": "5U9eygL2ZM2x",
        "colab_type": "code",
        "colab": {}
      },
      "source": [
        "# !pip freeze\n",
        "# would check the name & version of all libraries available for import"
      ],
      "execution_count": 0,
      "outputs": []
    },
    {
      "cell_type": "code",
      "metadata": {
        "id": "15XelMZgDT2t",
        "colab_type": "code",
        "outputId": "2f7137f8-4cf1-42b2-d7d3-689e308db953",
        "colab": {
          "base_uri": "https://localhost:8080/",
          "height": 122
        }
      },
      "source": [
        "import pandas as pd\n",
        "# from geopy.geocoders import Nominatim\n",
        "from geopy import distance\n",
        "from google.colab import files\n",
        "from google.colab import drive\n",
        "drive.mount('/content/drive')"
      ],
      "execution_count": 2,
      "outputs": [
        {
          "output_type": "stream",
          "text": [
            "Go to this URL in a browser: https://accounts.google.com/o/oauth2/auth?client_id=947318989803-6bn6qk8qdgf4n4g3pfee6491hc0brc4i.apps.googleusercontent.com&redirect_uri=urn%3aietf%3awg%3aoauth%3a2.0%3aoob&response_type=code&scope=email%20https%3a%2f%2fwww.googleapis.com%2fauth%2fdocs.test%20https%3a%2f%2fwww.googleapis.com%2fauth%2fdrive%20https%3a%2f%2fwww.googleapis.com%2fauth%2fdrive.photos.readonly%20https%3a%2f%2fwww.googleapis.com%2fauth%2fpeopleapi.readonly\n",
            "\n",
            "Enter your authorization code:\n",
            "··········\n",
            "Mounted at /content/drive\n"
          ],
          "name": "stdout"
        }
      ]
    },
    {
      "cell_type": "code",
      "metadata": {
        "id": "d3AsBkZsD-BV",
        "colab_type": "code",
        "outputId": "1b5c7cdc-3197-4792-c76e-1600dabfb74f",
        "colab": {
          "base_uri": "https://localhost:8080/",
          "height": 629
        }
      },
      "source": [
        "df = pd.read_csv('/content/drive/My Drive/Metis Spring 2020/Hospitals.csv')\n",
        "df_hosp = df.loc[(df.COUNTY == 'NEW YORK')]\n",
        "df_hosp.sample(6)"
      ],
      "execution_count": 3,
      "outputs": [
        {
          "output_type": "execute_result",
          "data": {
            "text/html": [
              "<div>\n",
              "<style scoped>\n",
              "    .dataframe tbody tr th:only-of-type {\n",
              "        vertical-align: middle;\n",
              "    }\n",
              "\n",
              "    .dataframe tbody tr th {\n",
              "        vertical-align: top;\n",
              "    }\n",
              "\n",
              "    .dataframe thead th {\n",
              "        text-align: right;\n",
              "    }\n",
              "</style>\n",
              "<table border=\"1\" class=\"dataframe\">\n",
              "  <thead>\n",
              "    <tr style=\"text-align: right;\">\n",
              "      <th></th>\n",
              "      <th>X</th>\n",
              "      <th>Y</th>\n",
              "      <th>OBJECTID</th>\n",
              "      <th>ID</th>\n",
              "      <th>NAME</th>\n",
              "      <th>ADDRESS</th>\n",
              "      <th>CITY</th>\n",
              "      <th>STATE</th>\n",
              "      <th>ZIP</th>\n",
              "      <th>ZIP4</th>\n",
              "      <th>TELEPHONE</th>\n",
              "      <th>TYPE</th>\n",
              "      <th>STATUS</th>\n",
              "      <th>POPULATION</th>\n",
              "      <th>COUNTY</th>\n",
              "      <th>COUNTYFIPS</th>\n",
              "      <th>COUNTRY</th>\n",
              "      <th>LATITUDE</th>\n",
              "      <th>LONGITUDE</th>\n",
              "      <th>NAICS_CODE</th>\n",
              "      <th>NAICS_DESC</th>\n",
              "      <th>SOURCE</th>\n",
              "      <th>SOURCEDATE</th>\n",
              "      <th>VAL_METHOD</th>\n",
              "      <th>VAL_DATE</th>\n",
              "      <th>WEBSITE</th>\n",
              "      <th>STATE_ID</th>\n",
              "      <th>ALT_NAME</th>\n",
              "      <th>ST_FIPS</th>\n",
              "      <th>OWNER</th>\n",
              "      <th>TTL_STAFF</th>\n",
              "      <th>BEDS</th>\n",
              "      <th>TRAUMA</th>\n",
              "      <th>HELIPAD</th>\n",
              "    </tr>\n",
              "  </thead>\n",
              "  <tbody>\n",
              "    <tr>\n",
              "      <th>2399</th>\n",
              "      <td>-73.977079</td>\n",
              "      <td>40.736881</td>\n",
              "      <td>3400</td>\n",
              "      <td>10710010</td>\n",
              "      <td>VA MEDICAL CENTER - MANHATTAN CAMPUS</td>\n",
              "      <td>423 E 23RD ST</td>\n",
              "      <td>NEW YORK</td>\n",
              "      <td>NY</td>\n",
              "      <td>10010</td>\n",
              "      <td>NOT AVAILABLE</td>\n",
              "      <td>NOT AVAILABLE</td>\n",
              "      <td>MILITARY</td>\n",
              "      <td>OPEN</td>\n",
              "      <td>-999</td>\n",
              "      <td>NEW YORK</td>\n",
              "      <td>36061</td>\n",
              "      <td>USA</td>\n",
              "      <td>40.736881</td>\n",
              "      <td>-73.977079</td>\n",
              "      <td>622110</td>\n",
              "      <td>GENERAL MEDICAL AND SURGICAL HOSPITALS</td>\n",
              "      <td>https://profiles.health.ny.gov/hospital/county...</td>\n",
              "      <td>2018-08-20T00:00:00.000Z</td>\n",
              "      <td>IMAGERY/OTHER</td>\n",
              "      <td>2015-05-22T00:00:00.000Z</td>\n",
              "      <td>http://www.nyharbor.va.gov/</td>\n",
              "      <td>NOT AVAILABLE</td>\n",
              "      <td>NOT AVAILABLE</td>\n",
              "      <td>36</td>\n",
              "      <td>GOVERNMENT - FEDERAL</td>\n",
              "      <td>-999</td>\n",
              "      <td>-999</td>\n",
              "      <td>NOT AVAILABLE</td>\n",
              "      <td>N</td>\n",
              "    </tr>\n",
              "    <tr>\n",
              "      <th>6013</th>\n",
              "      <td>-73.941624</td>\n",
              "      <td>40.803285</td>\n",
              "      <td>433</td>\n",
              "      <td>116810035</td>\n",
              "      <td>HENRY J. CARTER SPECIALTY HOSPITAL</td>\n",
              "      <td>1752 PARK AVENUE</td>\n",
              "      <td>NEW YORK</td>\n",
              "      <td>NY</td>\n",
              "      <td>10035</td>\n",
              "      <td>NOT AVAILABLE</td>\n",
              "      <td>(212) 318-8000</td>\n",
              "      <td>LONG TERM CARE</td>\n",
              "      <td>OPEN</td>\n",
              "      <td>201</td>\n",
              "      <td>NEW YORK</td>\n",
              "      <td>36061</td>\n",
              "      <td>USA</td>\n",
              "      <td>40.803285</td>\n",
              "      <td>-73.941624</td>\n",
              "      <td>622310</td>\n",
              "      <td>SPECIALTY (EXCEPT PSYCHIATRIC AND SUBSTANCE AB...</td>\n",
              "      <td>https://profiles.health.ny.gov/hospital/county...</td>\n",
              "      <td>2018-08-20T00:00:00.000Z</td>\n",
              "      <td>IMAGERY/OTHER</td>\n",
              "      <td>2015-02-11T00:00:00.000Z</td>\n",
              "      <td>http://www.nychealthandhospitals.org/carter/ht...</td>\n",
              "      <td>7002050H</td>\n",
              "      <td>NOT AVAILABLE</td>\n",
              "      <td>36</td>\n",
              "      <td>NOT AVAILABLE</td>\n",
              "      <td>-999</td>\n",
              "      <td>201</td>\n",
              "      <td>NOT AVAILABLE</td>\n",
              "      <td>N</td>\n",
              "    </tr>\n",
              "    <tr>\n",
              "      <th>2392</th>\n",
              "      <td>-73.981771</td>\n",
              "      <td>40.733105</td>\n",
              "      <td>3393</td>\n",
              "      <td>121210003</td>\n",
              "      <td>MOUNT SINAI BETH ISRAEL</td>\n",
              "      <td>FIRST AVE AT 16TH STREET</td>\n",
              "      <td>NEW YORK</td>\n",
              "      <td>NY</td>\n",
              "      <td>10003</td>\n",
              "      <td>NOT AVAILABLE</td>\n",
              "      <td>(212) 420-2873</td>\n",
              "      <td>GENERAL ACUTE CARE</td>\n",
              "      <td>OPEN</td>\n",
              "      <td>825</td>\n",
              "      <td>NEW YORK</td>\n",
              "      <td>36061</td>\n",
              "      <td>USA</td>\n",
              "      <td>40.733105</td>\n",
              "      <td>-73.981771</td>\n",
              "      <td>622110</td>\n",
              "      <td>GENERAL MEDICAL AND SURGICAL HOSPITALS</td>\n",
              "      <td>https://profiles.health.ny.gov/hospital/county...</td>\n",
              "      <td>2018-08-20T00:00:00.000Z</td>\n",
              "      <td>IMAGERY/OTHER</td>\n",
              "      <td>2015-02-24T00:00:00.000Z</td>\n",
              "      <td>http://www.bethisraelny.org/</td>\n",
              "      <td>7002002H</td>\n",
              "      <td>NOT AVAILABLE</td>\n",
              "      <td>36</td>\n",
              "      <td>NON-PROFIT</td>\n",
              "      <td>-999</td>\n",
              "      <td>825</td>\n",
              "      <td>NOT AVAILABLE</td>\n",
              "      <td>Y</td>\n",
              "    </tr>\n",
              "    <tr>\n",
              "      <th>2388</th>\n",
              "      <td>-73.973929</td>\n",
              "      <td>40.742047</td>\n",
              "      <td>3389</td>\n",
              "      <td>119410016</td>\n",
              "      <td>NYU HOSPITALS CENTER</td>\n",
              "      <td>550 FIRST AVENUE</td>\n",
              "      <td>NEW YORK</td>\n",
              "      <td>NY</td>\n",
              "      <td>10016</td>\n",
              "      <td>NOT AVAILABLE</td>\n",
              "      <td>(212) 263-5500</td>\n",
              "      <td>GENERAL ACUTE CARE</td>\n",
              "      <td>OPEN</td>\n",
              "      <td>844</td>\n",
              "      <td>NEW YORK</td>\n",
              "      <td>36061</td>\n",
              "      <td>USA</td>\n",
              "      <td>40.742047</td>\n",
              "      <td>-73.973929</td>\n",
              "      <td>622110</td>\n",
              "      <td>GENERAL MEDICAL AND SURGICAL HOSPITALS</td>\n",
              "      <td>https://profiles.health.ny.gov/hospital/county...</td>\n",
              "      <td>2018-08-20T00:00:00.000Z</td>\n",
              "      <td>IMAGERY/OTHER</td>\n",
              "      <td>2015-02-24T00:00:00.000Z</td>\n",
              "      <td>http://nyulangone.org/locations/tisch-hospital</td>\n",
              "      <td>7002053H</td>\n",
              "      <td>NOT AVAILABLE</td>\n",
              "      <td>36</td>\n",
              "      <td>NOT AVAILABLE</td>\n",
              "      <td>-999</td>\n",
              "      <td>844</td>\n",
              "      <td>NOT AVAILABLE</td>\n",
              "      <td>N</td>\n",
              "    </tr>\n",
              "    <tr>\n",
              "      <th>3255</th>\n",
              "      <td>-73.942144</td>\n",
              "      <td>40.770302</td>\n",
              "      <td>6256</td>\n",
              "      <td>19010044</td>\n",
              "      <td>COLER-GOLDWATER SPECIALTY HOSPITAL &amp; NURSING F...</td>\n",
              "      <td>900 MAIN STREET ROOSEVELT ISLAND</td>\n",
              "      <td>NEW YORK</td>\n",
              "      <td>NY</td>\n",
              "      <td>10044</td>\n",
              "      <td>NOT AVAILABLE</td>\n",
              "      <td>(212) 848-6000</td>\n",
              "      <td>LONG TERM CARE</td>\n",
              "      <td>CLOSED</td>\n",
              "      <td>210</td>\n",
              "      <td>NEW YORK</td>\n",
              "      <td>36061</td>\n",
              "      <td>USA</td>\n",
              "      <td>40.770302</td>\n",
              "      <td>-73.942144</td>\n",
              "      <td>622310</td>\n",
              "      <td>EXTENDED CARE HOSPITALS (EXCEPT MENTAL, SUBSTA...</td>\n",
              "      <td>https://profiles.health.ny.gov/hospital/county...</td>\n",
              "      <td>2018-08-20T00:00:00.000Z</td>\n",
              "      <td>IMAGERY/OTHER</td>\n",
              "      <td>2014-02-10T00:00:00.000Z</td>\n",
              "      <td>http://www.nychealthandhospitals.org/coler/</td>\n",
              "      <td>7002051H</td>\n",
              "      <td>NOT AVAILABLE</td>\n",
              "      <td>36</td>\n",
              "      <td>GOVERNMENT - LOCAL</td>\n",
              "      <td>-999</td>\n",
              "      <td>210</td>\n",
              "      <td>NOT AVAILABLE</td>\n",
              "      <td>N</td>\n",
              "    </tr>\n",
              "    <tr>\n",
              "      <th>5995</th>\n",
              "      <td>-73.986808</td>\n",
              "      <td>40.769412</td>\n",
              "      <td>415</td>\n",
              "      <td>18810019</td>\n",
              "      <td>THE ADDICTION INSTITUTE OF NEW YORK</td>\n",
              "      <td>1000 10TH AVE</td>\n",
              "      <td>NEW YORK</td>\n",
              "      <td>NY</td>\n",
              "      <td>10019</td>\n",
              "      <td>NOT AVAILABLE</td>\n",
              "      <td>(212) 256-3800</td>\n",
              "      <td>PSYCHIATRIC</td>\n",
              "      <td>CLOSED</td>\n",
              "      <td>-999</td>\n",
              "      <td>NEW YORK</td>\n",
              "      <td>36061</td>\n",
              "      <td>USA</td>\n",
              "      <td>40.769412</td>\n",
              "      <td>-73.986808</td>\n",
              "      <td>622210</td>\n",
              "      <td>HOSPITALS, PSYCHIATRIC (EXCEPT CONVALESCENT)</td>\n",
              "      <td>https://profiles.health.ny.gov/hospital/county...</td>\n",
              "      <td>2018-08-20T00:00:00.000Z</td>\n",
              "      <td>IMAGERY</td>\n",
              "      <td>2014-02-10T00:00:00.000Z</td>\n",
              "      <td>http://www.stlukeshospitalnyc.org/Addiction.aspx</td>\n",
              "      <td>1466</td>\n",
              "      <td>NOT AVAILABLE</td>\n",
              "      <td>36</td>\n",
              "      <td>NON-PROFIT</td>\n",
              "      <td>-999</td>\n",
              "      <td>-999</td>\n",
              "      <td>NOT AVAILABLE</td>\n",
              "      <td>N</td>\n",
              "    </tr>\n",
              "  </tbody>\n",
              "</table>\n",
              "</div>"
            ],
            "text/plain": [
              "              X          Y  OBJECTID  ...  BEDS         TRAUMA HELIPAD\n",
              "2399 -73.977079  40.736881      3400  ...  -999  NOT AVAILABLE       N\n",
              "6013 -73.941624  40.803285       433  ...   201  NOT AVAILABLE       N\n",
              "2392 -73.981771  40.733105      3393  ...   825  NOT AVAILABLE       Y\n",
              "2388 -73.973929  40.742047      3389  ...   844  NOT AVAILABLE       N\n",
              "3255 -73.942144  40.770302      6256  ...   210  NOT AVAILABLE       N\n",
              "5995 -73.986808  40.769412       415  ...  -999  NOT AVAILABLE       N\n",
              "\n",
              "[6 rows x 34 columns]"
            ]
          },
          "metadata": {
            "tags": []
          },
          "execution_count": 3
        }
      ]
    },
    {
      "cell_type": "code",
      "metadata": {
        "id": "dDlUUbsjFd_F",
        "colab_type": "code",
        "colab": {}
      },
      "source": [
        "stat_df = pd.read_csv('/content/drive/My Drive/Metis Spring 2020/MTAstations.csv')"
      ],
      "execution_count": 0,
      "outputs": []
    },
    {
      "cell_type": "code",
      "metadata": {
        "id": "87JwRQ6mE5ki",
        "colab_type": "code",
        "outputId": "c7e2ad84-bce1-4616-9c52-bef53795bd8c",
        "colab": {
          "base_uri": "https://localhost:8080/",
          "height": 119
        }
      },
      "source": [
        "stat_df['the_geom'].tail()"
      ],
      "execution_count": 5,
      "outputs": [
        {
          "output_type": "execute_result",
          "data": {
            "text/plain": [
              "468     POINT (-73.9812359981396 40.57728100006751)\n",
              "469    POINT (-74.00219709442206 40.75544635961596)\n",
              "470    POINT (-73.95836178682246 40.76880251014895)\n",
              "471    POINT (-73.95177090964917 40.77786104333163)\n",
              "472    POINT (-73.9470660219183 40.784236650177654)\n",
              "Name: the_geom, dtype: object"
            ]
          },
          "metadata": {
            "tags": []
          },
          "execution_count": 5
        }
      ]
    },
    {
      "cell_type": "code",
      "metadata": {
        "id": "qDDsTFB9KN7_",
        "colab_type": "code",
        "colab": {}
      },
      "source": [
        "stat_coords_df = pd.DataFrame(stat_df.the_geom.str.split(' ',2).tolist(), columns = ['junk','long','lat'])"
      ],
      "execution_count": 0,
      "outputs": []
    },
    {
      "cell_type": "code",
      "metadata": {
        "id": "k5__vmVcMy1I",
        "colab_type": "code",
        "outputId": "bb150202-12d1-4604-8733-2ea36c0a2d9d",
        "colab": {
          "base_uri": "https://localhost:8080/",
          "height": 204
        }
      },
      "source": [
        "stat_coords_df.tail()"
      ],
      "execution_count": 7,
      "outputs": [
        {
          "output_type": "execute_result",
          "data": {
            "text/html": [
              "<div>\n",
              "<style scoped>\n",
              "    .dataframe tbody tr th:only-of-type {\n",
              "        vertical-align: middle;\n",
              "    }\n",
              "\n",
              "    .dataframe tbody tr th {\n",
              "        vertical-align: top;\n",
              "    }\n",
              "\n",
              "    .dataframe thead th {\n",
              "        text-align: right;\n",
              "    }\n",
              "</style>\n",
              "<table border=\"1\" class=\"dataframe\">\n",
              "  <thead>\n",
              "    <tr style=\"text-align: right;\">\n",
              "      <th></th>\n",
              "      <th>junk</th>\n",
              "      <th>long</th>\n",
              "      <th>lat</th>\n",
              "    </tr>\n",
              "  </thead>\n",
              "  <tbody>\n",
              "    <tr>\n",
              "      <th>468</th>\n",
              "      <td>POINT</td>\n",
              "      <td>(-73.9812359981396</td>\n",
              "      <td>40.57728100006751)</td>\n",
              "    </tr>\n",
              "    <tr>\n",
              "      <th>469</th>\n",
              "      <td>POINT</td>\n",
              "      <td>(-74.00219709442206</td>\n",
              "      <td>40.75544635961596)</td>\n",
              "    </tr>\n",
              "    <tr>\n",
              "      <th>470</th>\n",
              "      <td>POINT</td>\n",
              "      <td>(-73.95836178682246</td>\n",
              "      <td>40.76880251014895)</td>\n",
              "    </tr>\n",
              "    <tr>\n",
              "      <th>471</th>\n",
              "      <td>POINT</td>\n",
              "      <td>(-73.95177090964917</td>\n",
              "      <td>40.77786104333163)</td>\n",
              "    </tr>\n",
              "    <tr>\n",
              "      <th>472</th>\n",
              "      <td>POINT</td>\n",
              "      <td>(-73.9470660219183</td>\n",
              "      <td>40.784236650177654)</td>\n",
              "    </tr>\n",
              "  </tbody>\n",
              "</table>\n",
              "</div>"
            ],
            "text/plain": [
              "      junk                 long                  lat\n",
              "468  POINT   (-73.9812359981396   40.57728100006751)\n",
              "469  POINT  (-74.00219709442206   40.75544635961596)\n",
              "470  POINT  (-73.95836178682246   40.76880251014895)\n",
              "471  POINT  (-73.95177090964917   40.77786104333163)\n",
              "472  POINT   (-73.9470660219183  40.784236650177654)"
            ]
          },
          "metadata": {
            "tags": []
          },
          "execution_count": 7
        }
      ]
    },
    {
      "cell_type": "code",
      "metadata": {
        "id": "XmkmNcCtfUas",
        "colab_type": "code",
        "outputId": "e01af8c8-48f4-4456-c07b-780d0be7c8f1",
        "colab": {
          "base_uri": "https://localhost:8080/",
          "height": 142
        }
      },
      "source": [
        "stat_df['long'] = pd.Series(stat_coords_df.long.str.strip('(')).astype(float)\n",
        "stat_df['lat'] = pd.Series(stat_coords_df.lat.str.strip(')')).astype(float)\n",
        "stat_df.tail(3)"
      ],
      "execution_count": 8,
      "outputs": [
        {
          "output_type": "execute_result",
          "data": {
            "text/html": [
              "<div>\n",
              "<style scoped>\n",
              "    .dataframe tbody tr th:only-of-type {\n",
              "        vertical-align: middle;\n",
              "    }\n",
              "\n",
              "    .dataframe tbody tr th {\n",
              "        vertical-align: top;\n",
              "    }\n",
              "\n",
              "    .dataframe thead th {\n",
              "        text-align: right;\n",
              "    }\n",
              "</style>\n",
              "<table border=\"1\" class=\"dataframe\">\n",
              "  <thead>\n",
              "    <tr style=\"text-align: right;\">\n",
              "      <th></th>\n",
              "      <th>URL</th>\n",
              "      <th>OBJECTID</th>\n",
              "      <th>NAME</th>\n",
              "      <th>the_geom</th>\n",
              "      <th>LINE</th>\n",
              "      <th>NOTES</th>\n",
              "      <th>long</th>\n",
              "      <th>lat</th>\n",
              "    </tr>\n",
              "  </thead>\n",
              "  <tbody>\n",
              "    <tr>\n",
              "      <th>470</th>\n",
              "      <td>http://web.mta.info/nyct/service/</td>\n",
              "      <td>641</td>\n",
              "      <td>72nd St</td>\n",
              "      <td>POINT (-73.95836178682246 40.76880251014895)</td>\n",
              "      <td>Q</td>\n",
              "      <td>Q-all times</td>\n",
              "      <td>-73.958362</td>\n",
              "      <td>40.768803</td>\n",
              "    </tr>\n",
              "    <tr>\n",
              "      <th>471</th>\n",
              "      <td>http://web.mta.info/nyct/service/</td>\n",
              "      <td>642</td>\n",
              "      <td>86th St</td>\n",
              "      <td>POINT (-73.95177090964917 40.77786104333163)</td>\n",
              "      <td>Q</td>\n",
              "      <td>Q-all times</td>\n",
              "      <td>-73.951771</td>\n",
              "      <td>40.777861</td>\n",
              "    </tr>\n",
              "    <tr>\n",
              "      <th>472</th>\n",
              "      <td>http://web.mta.info/nyct/service/</td>\n",
              "      <td>643</td>\n",
              "      <td>96th St</td>\n",
              "      <td>POINT (-73.9470660219183 40.784236650177654)</td>\n",
              "      <td>Q</td>\n",
              "      <td>Q-all times</td>\n",
              "      <td>-73.947066</td>\n",
              "      <td>40.784237</td>\n",
              "    </tr>\n",
              "  </tbody>\n",
              "</table>\n",
              "</div>"
            ],
            "text/plain": [
              "                                   URL  OBJECTID  ...       long        lat\n",
              "470  http://web.mta.info/nyct/service/       641  ... -73.958362  40.768803\n",
              "471  http://web.mta.info/nyct/service/       642  ... -73.951771  40.777861\n",
              "472  http://web.mta.info/nyct/service/       643  ... -73.947066  40.784237\n",
              "\n",
              "[3 rows x 8 columns]"
            ]
          },
          "metadata": {
            "tags": []
          },
          "execution_count": 8
        }
      ]
    },
    {
      "cell_type": "code",
      "metadata": {
        "id": "baYtL-jTgzh_",
        "colab_type": "code",
        "outputId": "bc238967-6a61-4725-e33b-b21cc0800987",
        "colab": {
          "base_uri": "https://localhost:8080/",
          "height": 289
        }
      },
      "source": [
        "stat_df.head()"
      ],
      "execution_count": 9,
      "outputs": [
        {
          "output_type": "execute_result",
          "data": {
            "text/html": [
              "<div>\n",
              "<style scoped>\n",
              "    .dataframe tbody tr th:only-of-type {\n",
              "        vertical-align: middle;\n",
              "    }\n",
              "\n",
              "    .dataframe tbody tr th {\n",
              "        vertical-align: top;\n",
              "    }\n",
              "\n",
              "    .dataframe thead th {\n",
              "        text-align: right;\n",
              "    }\n",
              "</style>\n",
              "<table border=\"1\" class=\"dataframe\">\n",
              "  <thead>\n",
              "    <tr style=\"text-align: right;\">\n",
              "      <th></th>\n",
              "      <th>URL</th>\n",
              "      <th>OBJECTID</th>\n",
              "      <th>NAME</th>\n",
              "      <th>the_geom</th>\n",
              "      <th>LINE</th>\n",
              "      <th>NOTES</th>\n",
              "      <th>long</th>\n",
              "      <th>lat</th>\n",
              "    </tr>\n",
              "  </thead>\n",
              "  <tbody>\n",
              "    <tr>\n",
              "      <th>0</th>\n",
              "      <td>http://web.mta.info/nyct/service/</td>\n",
              "      <td>1</td>\n",
              "      <td>Astor Pl</td>\n",
              "      <td>POINT (-73.99106999861966 40.73005400028978)</td>\n",
              "      <td>4-6-6 Express</td>\n",
              "      <td>4 nights, 6-all times, 6 Express-weekdays AM s...</td>\n",
              "      <td>-73.991070</td>\n",
              "      <td>40.730054</td>\n",
              "    </tr>\n",
              "    <tr>\n",
              "      <th>1</th>\n",
              "      <td>http://web.mta.info/nyct/service/</td>\n",
              "      <td>2</td>\n",
              "      <td>Canal St</td>\n",
              "      <td>POINT (-74.00019299927328 40.71880300107709)</td>\n",
              "      <td>4-6-6 Express</td>\n",
              "      <td>4 nights, 6-all times, 6 Express-weekdays AM s...</td>\n",
              "      <td>-74.000193</td>\n",
              "      <td>40.718803</td>\n",
              "    </tr>\n",
              "    <tr>\n",
              "      <th>2</th>\n",
              "      <td>http://web.mta.info/nyct/service/</td>\n",
              "      <td>3</td>\n",
              "      <td>50th St</td>\n",
              "      <td>POINT (-73.98384899986625 40.76172799961419)</td>\n",
              "      <td>1-2</td>\n",
              "      <td>1-all times, 2-nights</td>\n",
              "      <td>-73.983849</td>\n",
              "      <td>40.761728</td>\n",
              "    </tr>\n",
              "    <tr>\n",
              "      <th>3</th>\n",
              "      <td>http://web.mta.info/nyct/service/</td>\n",
              "      <td>4</td>\n",
              "      <td>Bergen St</td>\n",
              "      <td>POINT (-73.97499915116808 40.68086213682956)</td>\n",
              "      <td>2-3-4</td>\n",
              "      <td>4-nights, 3-all other times, 2-all times</td>\n",
              "      <td>-73.974999</td>\n",
              "      <td>40.680862</td>\n",
              "    </tr>\n",
              "    <tr>\n",
              "      <th>4</th>\n",
              "      <td>http://web.mta.info/nyct/service/</td>\n",
              "      <td>5</td>\n",
              "      <td>Pennsylvania Ave</td>\n",
              "      <td>POINT (-73.89488591154061 40.66471445143568)</td>\n",
              "      <td>3-4</td>\n",
              "      <td>4-nights, 3-all other times</td>\n",
              "      <td>-73.894886</td>\n",
              "      <td>40.664714</td>\n",
              "    </tr>\n",
              "  </tbody>\n",
              "</table>\n",
              "</div>"
            ],
            "text/plain": [
              "                                 URL  OBJECTID  ...       long        lat\n",
              "0  http://web.mta.info/nyct/service/         1  ... -73.991070  40.730054\n",
              "1  http://web.mta.info/nyct/service/         2  ... -74.000193  40.718803\n",
              "2  http://web.mta.info/nyct/service/         3  ... -73.983849  40.761728\n",
              "3  http://web.mta.info/nyct/service/         4  ... -73.974999  40.680862\n",
              "4  http://web.mta.info/nyct/service/         5  ... -73.894886  40.664714\n",
              "\n",
              "[5 rows x 8 columns]"
            ]
          },
          "metadata": {
            "tags": []
          },
          "execution_count": 9
        }
      ]
    },
    {
      "cell_type": "code",
      "metadata": {
        "id": "Q-XvlHKIkrxj",
        "colab_type": "code",
        "outputId": "8fdb6eb0-69e9-44f8-c40b-6d1345dcd2d3",
        "colab": {
          "base_uri": "https://localhost:8080/",
          "height": 119
        }
      },
      "source": [
        "stat_loc = pd.Series(zip(stat_df.lat, stat_df.long))\n",
        "stat_loc.head()"
      ],
      "execution_count": 10,
      "outputs": [
        {
          "output_type": "execute_result",
          "data": {
            "text/plain": [
              "0    (40.73005400028978, -73.99106999861966)\n",
              "1    (40.71880300107709, -74.00019299927328)\n",
              "2    (40.76172799961419, -73.98384899986625)\n",
              "3    (40.68086213682956, -73.97499915116808)\n",
              "4    (40.66471445143568, -73.89488591154061)\n",
              "dtype: object"
            ]
          },
          "metadata": {
            "tags": []
          },
          "execution_count": 10
        }
      ]
    },
    {
      "cell_type": "code",
      "metadata": {
        "id": "OUPef2fGlO3H",
        "colab_type": "code",
        "outputId": "29e9bff9-202e-4599-8520-3a96bb7037fe",
        "colab": {
          "base_uri": "https://localhost:8080/",
          "height": 204
        }
      },
      "source": [
        "stat_loc_df = pd.DataFrame(stat_df['NAME'])\n",
        "stat_loc_df.head()"
      ],
      "execution_count": 11,
      "outputs": [
        {
          "output_type": "execute_result",
          "data": {
            "text/html": [
              "<div>\n",
              "<style scoped>\n",
              "    .dataframe tbody tr th:only-of-type {\n",
              "        vertical-align: middle;\n",
              "    }\n",
              "\n",
              "    .dataframe tbody tr th {\n",
              "        vertical-align: top;\n",
              "    }\n",
              "\n",
              "    .dataframe thead th {\n",
              "        text-align: right;\n",
              "    }\n",
              "</style>\n",
              "<table border=\"1\" class=\"dataframe\">\n",
              "  <thead>\n",
              "    <tr style=\"text-align: right;\">\n",
              "      <th></th>\n",
              "      <th>NAME</th>\n",
              "    </tr>\n",
              "  </thead>\n",
              "  <tbody>\n",
              "    <tr>\n",
              "      <th>0</th>\n",
              "      <td>Astor Pl</td>\n",
              "    </tr>\n",
              "    <tr>\n",
              "      <th>1</th>\n",
              "      <td>Canal St</td>\n",
              "    </tr>\n",
              "    <tr>\n",
              "      <th>2</th>\n",
              "      <td>50th St</td>\n",
              "    </tr>\n",
              "    <tr>\n",
              "      <th>3</th>\n",
              "      <td>Bergen St</td>\n",
              "    </tr>\n",
              "    <tr>\n",
              "      <th>4</th>\n",
              "      <td>Pennsylvania Ave</td>\n",
              "    </tr>\n",
              "  </tbody>\n",
              "</table>\n",
              "</div>"
            ],
            "text/plain": [
              "               NAME\n",
              "0          Astor Pl\n",
              "1          Canal St\n",
              "2           50th St\n",
              "3         Bergen St\n",
              "4  Pennsylvania Ave"
            ]
          },
          "metadata": {
            "tags": []
          },
          "execution_count": 11
        }
      ]
    },
    {
      "cell_type": "code",
      "metadata": {
        "id": "ayFSCyeImcvp",
        "colab_type": "code",
        "outputId": "39746ed6-5a03-488f-96af-a011648cb28f",
        "colab": {
          "base_uri": "https://localhost:8080/",
          "height": 204
        }
      },
      "source": [
        "stat_loc_df['lines'] = stat_df['LINE']\n",
        "stat_loc_df['coords'] = stat_loc\n",
        "stat_loc_df.head()"
      ],
      "execution_count": 13,
      "outputs": [
        {
          "output_type": "execute_result",
          "data": {
            "text/html": [
              "<div>\n",
              "<style scoped>\n",
              "    .dataframe tbody tr th:only-of-type {\n",
              "        vertical-align: middle;\n",
              "    }\n",
              "\n",
              "    .dataframe tbody tr th {\n",
              "        vertical-align: top;\n",
              "    }\n",
              "\n",
              "    .dataframe thead th {\n",
              "        text-align: right;\n",
              "    }\n",
              "</style>\n",
              "<table border=\"1\" class=\"dataframe\">\n",
              "  <thead>\n",
              "    <tr style=\"text-align: right;\">\n",
              "      <th></th>\n",
              "      <th>NAME</th>\n",
              "      <th>lines</th>\n",
              "      <th>coords</th>\n",
              "    </tr>\n",
              "  </thead>\n",
              "  <tbody>\n",
              "    <tr>\n",
              "      <th>0</th>\n",
              "      <td>Astor Pl</td>\n",
              "      <td>4-6-6 Express</td>\n",
              "      <td>(40.73005400028978, -73.99106999861966)</td>\n",
              "    </tr>\n",
              "    <tr>\n",
              "      <th>1</th>\n",
              "      <td>Canal St</td>\n",
              "      <td>4-6-6 Express</td>\n",
              "      <td>(40.71880300107709, -74.00019299927328)</td>\n",
              "    </tr>\n",
              "    <tr>\n",
              "      <th>2</th>\n",
              "      <td>50th St</td>\n",
              "      <td>1-2</td>\n",
              "      <td>(40.76172799961419, -73.98384899986625)</td>\n",
              "    </tr>\n",
              "    <tr>\n",
              "      <th>3</th>\n",
              "      <td>Bergen St</td>\n",
              "      <td>2-3-4</td>\n",
              "      <td>(40.68086213682956, -73.97499915116808)</td>\n",
              "    </tr>\n",
              "    <tr>\n",
              "      <th>4</th>\n",
              "      <td>Pennsylvania Ave</td>\n",
              "      <td>3-4</td>\n",
              "      <td>(40.66471445143568, -73.89488591154061)</td>\n",
              "    </tr>\n",
              "  </tbody>\n",
              "</table>\n",
              "</div>"
            ],
            "text/plain": [
              "               NAME          lines                                   coords\n",
              "0          Astor Pl  4-6-6 Express  (40.73005400028978, -73.99106999861966)\n",
              "1          Canal St  4-6-6 Express  (40.71880300107709, -74.00019299927328)\n",
              "2           50th St            1-2  (40.76172799961419, -73.98384899986625)\n",
              "3         Bergen St          2-3-4  (40.68086213682956, -73.97499915116808)\n",
              "4  Pennsylvania Ave            3-4  (40.66471445143568, -73.89488591154061)"
            ]
          },
          "metadata": {
            "tags": []
          },
          "execution_count": 13
        }
      ]
    },
    {
      "cell_type": "markdown",
      "metadata": {
        "id": "yaTpyBq1m5Zv",
        "colab_type": "text"
      },
      "source": [
        "Right. Haven't been doing any kind of job of commenting thus far. I have so far pulled in both the hospital and the MTA station location data and have cleaned up the latter to form ordered pairs suitable for geopy. I need to do that for the hospital data as well, then get to work writing a routine for finding the shortest distance from a station to one of the hospitals on the list.\n",
        "\n",
        "We can either pick out the additional hospitals from Kings and Queens counties and whatever county names the Bronx and Staten Island have, or we can confine the station data to just Manhattan Island by finding some code somewhere that identifies points within a given polygon. PAG"
      ]
    },
    {
      "cell_type": "markdown",
      "metadata": {
        "id": "ktq9BRhZp-g8",
        "colab_type": "text"
      },
      "source": [
        "First, let's knock out the closed hospitals."
      ]
    },
    {
      "cell_type": "code",
      "metadata": {
        "id": "KfBoSGdknui9",
        "colab_type": "code",
        "outputId": "6d8efc7d-0191-427b-a7ff-945168d02eb4",
        "colab": {
          "base_uri": "https://localhost:8080/",
          "height": 34
        }
      },
      "source": [
        "still_open = (df_hosp.STATUS == 'OPEN')\n",
        "still_open[5995] # The Addiction Institute of New York, which I noticed was \n",
        "                 # closed in my sample"
      ],
      "execution_count": 14,
      "outputs": [
        {
          "output_type": "execute_result",
          "data": {
            "text/plain": [
              "False"
            ]
          },
          "metadata": {
            "tags": []
          },
          "execution_count": 14
        }
      ]
    },
    {
      "cell_type": "code",
      "metadata": {
        "id": "mz5y_VJypN7z",
        "colab_type": "code",
        "outputId": "2ba6b981-72b7-469e-e2cb-fb2bbfefe5ff",
        "colab": {
          "base_uri": "https://localhost:8080/",
          "height": 51
        }
      },
      "source": [
        "df_hosp_open = df_hosp[still_open]\n",
        "print(df_hosp.shape)\n",
        "df_hosp_open.shape"
      ],
      "execution_count": 15,
      "outputs": [
        {
          "output_type": "stream",
          "text": [
            "(29, 34)\n"
          ],
          "name": "stdout"
        },
        {
          "output_type": "execute_result",
          "data": {
            "text/plain": [
              "(25, 34)"
            ]
          },
          "metadata": {
            "tags": []
          },
          "execution_count": 15
        }
      ]
    },
    {
      "cell_type": "code",
      "metadata": {
        "id": "IJ6-sWPAqILJ",
        "colab_type": "code",
        "outputId": "5d7d3a81-2209-486e-f64a-8ffd61d46bab",
        "colab": {
          "base_uri": "https://localhost:8080/",
          "height": 318
        }
      },
      "source": [
        "df_hosp_open.head(2)"
      ],
      "execution_count": 16,
      "outputs": [
        {
          "output_type": "execute_result",
          "data": {
            "text/html": [
              "<div>\n",
              "<style scoped>\n",
              "    .dataframe tbody tr th:only-of-type {\n",
              "        vertical-align: middle;\n",
              "    }\n",
              "\n",
              "    .dataframe tbody tr th {\n",
              "        vertical-align: top;\n",
              "    }\n",
              "\n",
              "    .dataframe thead th {\n",
              "        text-align: right;\n",
              "    }\n",
              "</style>\n",
              "<table border=\"1\" class=\"dataframe\">\n",
              "  <thead>\n",
              "    <tr style=\"text-align: right;\">\n",
              "      <th></th>\n",
              "      <th>X</th>\n",
              "      <th>Y</th>\n",
              "      <th>OBJECTID</th>\n",
              "      <th>ID</th>\n",
              "      <th>NAME</th>\n",
              "      <th>ADDRESS</th>\n",
              "      <th>CITY</th>\n",
              "      <th>STATE</th>\n",
              "      <th>ZIP</th>\n",
              "      <th>ZIP4</th>\n",
              "      <th>TELEPHONE</th>\n",
              "      <th>TYPE</th>\n",
              "      <th>STATUS</th>\n",
              "      <th>POPULATION</th>\n",
              "      <th>COUNTY</th>\n",
              "      <th>COUNTYFIPS</th>\n",
              "      <th>COUNTRY</th>\n",
              "      <th>LATITUDE</th>\n",
              "      <th>LONGITUDE</th>\n",
              "      <th>NAICS_CODE</th>\n",
              "      <th>NAICS_DESC</th>\n",
              "      <th>SOURCE</th>\n",
              "      <th>SOURCEDATE</th>\n",
              "      <th>VAL_METHOD</th>\n",
              "      <th>VAL_DATE</th>\n",
              "      <th>WEBSITE</th>\n",
              "      <th>STATE_ID</th>\n",
              "      <th>ALT_NAME</th>\n",
              "      <th>ST_FIPS</th>\n",
              "      <th>OWNER</th>\n",
              "      <th>TTL_STAFF</th>\n",
              "      <th>BEDS</th>\n",
              "      <th>TRAUMA</th>\n",
              "      <th>HELIPAD</th>\n",
              "    </tr>\n",
              "  </thead>\n",
              "  <tbody>\n",
              "    <tr>\n",
              "      <th>1153</th>\n",
              "      <td>-73.953021</td>\n",
              "      <td>40.769717</td>\n",
              "      <td>4154</td>\n",
              "      <td>18910021</td>\n",
              "      <td>GRACIE SQUARE HOSPITAL</td>\n",
              "      <td>420 E 76TH ST, 2ND, 3RD, 4TH &amp; 5TH FLOORS</td>\n",
              "      <td>NEW YORK</td>\n",
              "      <td>NY</td>\n",
              "      <td>10021</td>\n",
              "      <td>NOT AVAILABLE</td>\n",
              "      <td>(212) 988-4400</td>\n",
              "      <td>PSYCHIATRIC</td>\n",
              "      <td>OPEN</td>\n",
              "      <td>157</td>\n",
              "      <td>NEW YORK</td>\n",
              "      <td>36061</td>\n",
              "      <td>USA</td>\n",
              "      <td>40.769717</td>\n",
              "      <td>-73.953021</td>\n",
              "      <td>622210</td>\n",
              "      <td>PSYCHIATRIC AND SUBSTANCE ABUSE HOSPITALS</td>\n",
              "      <td>https://profiles.health.ny.gov/hospital/county...</td>\n",
              "      <td>2018-08-20T00:00:00.000Z</td>\n",
              "      <td>IMAGERY/OTHER</td>\n",
              "      <td>2014-02-10T00:00:00.000Z</td>\n",
              "      <td>http://www.nygsh.org</td>\n",
              "      <td>1458</td>\n",
              "      <td>NOT AVAILABLE</td>\n",
              "      <td>36</td>\n",
              "      <td>NON-PROFIT</td>\n",
              "      <td>-999</td>\n",
              "      <td>157</td>\n",
              "      <td>NOT AVAILABLE</td>\n",
              "      <td>N</td>\n",
              "    </tr>\n",
              "    <tr>\n",
              "      <th>2350</th>\n",
              "      <td>-73.952315</td>\n",
              "      <td>40.764923</td>\n",
              "      <td>3351</td>\n",
              "      <td>18010021</td>\n",
              "      <td>HOSPITAL FOR SPECIAL SURGERY</td>\n",
              "      <td>535 EAST 70TH ST</td>\n",
              "      <td>NEW YORK</td>\n",
              "      <td>NY</td>\n",
              "      <td>10021</td>\n",
              "      <td>NOT AVAILABLE</td>\n",
              "      <td>(212) 606-1236</td>\n",
              "      <td>SPECIAL</td>\n",
              "      <td>OPEN</td>\n",
              "      <td>215</td>\n",
              "      <td>NEW YORK</td>\n",
              "      <td>36061</td>\n",
              "      <td>USA</td>\n",
              "      <td>40.764923</td>\n",
              "      <td>-73.952315</td>\n",
              "      <td>622310</td>\n",
              "      <td>SPECIALTY (EXCEPT PSYCHIATRIC AND SUBSTANCE AB...</td>\n",
              "      <td>https://profiles.health.ny.gov/hospital/county...</td>\n",
              "      <td>2018-08-20T00:00:00.000Z</td>\n",
              "      <td>IMAGERY/OTHER</td>\n",
              "      <td>2014-02-10T00:00:00.000Z</td>\n",
              "      <td>http://www.hss.edu</td>\n",
              "      <td>7002012H</td>\n",
              "      <td>NOT AVAILABLE</td>\n",
              "      <td>36</td>\n",
              "      <td>NON-PROFIT</td>\n",
              "      <td>-999</td>\n",
              "      <td>215</td>\n",
              "      <td>NOT AVAILABLE</td>\n",
              "      <td>N</td>\n",
              "    </tr>\n",
              "  </tbody>\n",
              "</table>\n",
              "</div>"
            ],
            "text/plain": [
              "              X          Y  OBJECTID  ...  BEDS         TRAUMA HELIPAD\n",
              "1153 -73.953021  40.769717      4154  ...   157  NOT AVAILABLE       N\n",
              "2350 -73.952315  40.764923      3351  ...   215  NOT AVAILABLE       N\n",
              "\n",
              "[2 rows x 34 columns]"
            ]
          },
          "metadata": {
            "tags": []
          },
          "execution_count": 16
        }
      ]
    },
    {
      "cell_type": "markdown",
      "metadata": {
        "id": "NMhDK82rqwSd",
        "colab_type": "text"
      },
      "source": [
        "Now we'll zip up the coordinates for the hospital locations just like we did for station locations. The only problem is the indexing."
      ]
    },
    {
      "cell_type": "code",
      "metadata": {
        "id": "HoJSk7CYqTAt",
        "colab_type": "code",
        "outputId": "d8d7a649-b88c-43f6-f433-26fb83adad2b",
        "colab": {
          "base_uri": "https://localhost:8080/",
          "height": 119
        }
      },
      "source": [
        "hosp_loc = pd.Series(zip(df_hosp_open.Y, df_hosp_open.X), index = df_hosp_open.index)\n",
        "hosp_loc.head()"
      ],
      "execution_count": 17,
      "outputs": [
        {
          "output_type": "execute_result",
          "data": {
            "text/plain": [
              "1153     (40.7697165, -73.95302135)\n",
              "2350    (40.76492338, -73.95231485)\n",
              "2351    (40.78492694, -73.94453023)\n",
              "2352    (40.73185306, -73.98448331)\n",
              "2353    (40.78976753, -73.95321427)\n",
              "dtype: object"
            ]
          },
          "metadata": {
            "tags": []
          },
          "execution_count": 17
        }
      ]
    },
    {
      "cell_type": "code",
      "metadata": {
        "id": "Wmsk8vN6qtbd",
        "colab_type": "code",
        "colab": {}
      },
      "source": [
        "hosp_loc_df = pd.DataFrame(df_hosp_open['NAME'])\n",
        "hosp_loc_df['address'] = df_hosp_open['ADDRESS']\n",
        "hosp_loc_df['coords'] = hosp_loc"
      ],
      "execution_count": 0,
      "outputs": []
    },
    {
      "cell_type": "code",
      "metadata": {
        "id": "haPsDEGerQIk",
        "colab_type": "code",
        "outputId": "cc69c93f-a46a-4439-9f62-a5567b24dc45",
        "colab": {
          "base_uri": "https://localhost:8080/",
          "height": 204
        }
      },
      "source": [
        "hosp_loc_df.head()"
      ],
      "execution_count": 19,
      "outputs": [
        {
          "output_type": "execute_result",
          "data": {
            "text/html": [
              "<div>\n",
              "<style scoped>\n",
              "    .dataframe tbody tr th:only-of-type {\n",
              "        vertical-align: middle;\n",
              "    }\n",
              "\n",
              "    .dataframe tbody tr th {\n",
              "        vertical-align: top;\n",
              "    }\n",
              "\n",
              "    .dataframe thead th {\n",
              "        text-align: right;\n",
              "    }\n",
              "</style>\n",
              "<table border=\"1\" class=\"dataframe\">\n",
              "  <thead>\n",
              "    <tr style=\"text-align: right;\">\n",
              "      <th></th>\n",
              "      <th>NAME</th>\n",
              "      <th>address</th>\n",
              "      <th>coords</th>\n",
              "    </tr>\n",
              "  </thead>\n",
              "  <tbody>\n",
              "    <tr>\n",
              "      <th>1153</th>\n",
              "      <td>GRACIE SQUARE HOSPITAL</td>\n",
              "      <td>420 E 76TH ST, 2ND, 3RD, 4TH &amp; 5TH FLOORS</td>\n",
              "      <td>(40.7697165, -73.95302135)</td>\n",
              "    </tr>\n",
              "    <tr>\n",
              "      <th>2350</th>\n",
              "      <td>HOSPITAL FOR SPECIAL SURGERY</td>\n",
              "      <td>535 EAST 70TH ST</td>\n",
              "      <td>(40.76492338, -73.95231485)</td>\n",
              "    </tr>\n",
              "    <tr>\n",
              "      <th>2351</th>\n",
              "      <td>METROPOLITAN HOSPITAL CENTER</td>\n",
              "      <td>1901 1ST AVE</td>\n",
              "      <td>(40.78492694, -73.94453023)</td>\n",
              "    </tr>\n",
              "    <tr>\n",
              "      <th>2352</th>\n",
              "      <td>NEW YORK EYE AND EAR INFIRMARY</td>\n",
              "      <td>310 E 14TH ST</td>\n",
              "      <td>(40.73185306, -73.98448331)</td>\n",
              "    </tr>\n",
              "    <tr>\n",
              "      <th>2353</th>\n",
              "      <td>MOUNT SINAI HOSPITAL</td>\n",
              "      <td>1 GUSTAVE L LEVY PL</td>\n",
              "      <td>(40.78976753, -73.95321427)</td>\n",
              "    </tr>\n",
              "  </tbody>\n",
              "</table>\n",
              "</div>"
            ],
            "text/plain": [
              "                                NAME  ...                       coords\n",
              "1153          GRACIE SQUARE HOSPITAL  ...   (40.7697165, -73.95302135)\n",
              "2350    HOSPITAL FOR SPECIAL SURGERY  ...  (40.76492338, -73.95231485)\n",
              "2351    METROPOLITAN HOSPITAL CENTER  ...  (40.78492694, -73.94453023)\n",
              "2352  NEW YORK EYE AND EAR INFIRMARY  ...  (40.73185306, -73.98448331)\n",
              "2353            MOUNT SINAI HOSPITAL  ...  (40.78976753, -73.95321427)\n",
              "\n",
              "[5 rows x 3 columns]"
            ]
          },
          "metadata": {
            "tags": []
          },
          "execution_count": 19
        }
      ]
    },
    {
      "cell_type": "markdown",
      "metadata": {
        "id": "V1C0WIeB0wFm",
        "colab_type": "text"
      },
      "source": [
        ""
      ]
    },
    {
      "cell_type": "code",
      "metadata": {
        "id": "jmwynUwX0wuS",
        "colab_type": "code",
        "colab": {
          "base_uri": "https://localhost:8080/",
          "height": 187
        },
        "outputId": "b12c9825-9670-469b-83b3-2ef648e4a05f"
      },
      "source": [
        "hosp_loc_df.info()"
      ],
      "execution_count": 77,
      "outputs": [
        {
          "output_type": "stream",
          "text": [
            "<class 'pandas.core.frame.DataFrame'>\n",
            "Int64Index: 25 entries, 1153 to 6396\n",
            "Data columns (total 3 columns):\n",
            " #   Column   Non-Null Count  Dtype \n",
            "---  ------   --------------  ----- \n",
            " 0   NAME     25 non-null     object\n",
            " 1   address  25 non-null     object\n",
            " 2   coords   25 non-null     object\n",
            "dtypes: object(3)\n",
            "memory usage: 1.4+ KB\n"
          ],
          "name": "stdout"
        }
      ]
    },
    {
      "cell_type": "markdown",
      "metadata": {
        "id": "_58qpEBjsMY-",
        "colab_type": "text"
      },
      "source": [
        "Now the task is basically to create columns in the station dataframe with the name and distance of the closest hospital to each station. Iterate over each station, find the distance to each hospital, save the name and distance of the closest hospital in the station dataframe."
      ]
    },
    {
      "cell_type": "code",
      "metadata": {
        "id": "j1wuFdFXcTsO",
        "colab_type": "code",
        "outputId": "878545b0-b721-4b7f-83d6-88e3c70c79d6",
        "colab": {
          "base_uri": "https://localhost:8080/",
          "height": 221
        }
      },
      "source": [
        "# first let's see if we can get a single freaking distance\n",
        "\n",
        "stat_loc_df['coords']"
      ],
      "execution_count": 21,
      "outputs": [
        {
          "output_type": "execute_result",
          "data": {
            "text/plain": [
              "0      (40.73005400028978, -73.99106999861966)\n",
              "1      (40.71880300107709, -74.00019299927328)\n",
              "2      (40.76172799961419, -73.98384899986625)\n",
              "3      (40.68086213682956, -73.97499915116808)\n",
              "4      (40.66471445143568, -73.89488591154061)\n",
              "                        ...                   \n",
              "468     (40.57728100006751, -73.9812359981396)\n",
              "469    (40.75544635961596, -74.00219709442206)\n",
              "470    (40.76880251014895, -73.95836178682246)\n",
              "471    (40.77786104333163, -73.95177090964917)\n",
              "472    (40.784236650177654, -73.9470660219183)\n",
              "Name: coords, Length: 473, dtype: object"
            ]
          },
          "metadata": {
            "tags": []
          },
          "execution_count": 21
        }
      ]
    },
    {
      "cell_type": "code",
      "metadata": {
        "id": "OnS3T_KQdMbw",
        "colab_type": "code",
        "outputId": "2ee962b0-224a-4a9b-ce75-3bcd63c566d1",
        "colab": {
          "base_uri": "https://localhost:8080/",
          "height": 669
        }
      },
      "source": [
        "stat_loc_df[0:20]"
      ],
      "execution_count": 22,
      "outputs": [
        {
          "output_type": "execute_result",
          "data": {
            "text/html": [
              "<div>\n",
              "<style scoped>\n",
              "    .dataframe tbody tr th:only-of-type {\n",
              "        vertical-align: middle;\n",
              "    }\n",
              "\n",
              "    .dataframe tbody tr th {\n",
              "        vertical-align: top;\n",
              "    }\n",
              "\n",
              "    .dataframe thead th {\n",
              "        text-align: right;\n",
              "    }\n",
              "</style>\n",
              "<table border=\"1\" class=\"dataframe\">\n",
              "  <thead>\n",
              "    <tr style=\"text-align: right;\">\n",
              "      <th></th>\n",
              "      <th>NAME</th>\n",
              "      <th>lines</th>\n",
              "      <th>coords</th>\n",
              "    </tr>\n",
              "  </thead>\n",
              "  <tbody>\n",
              "    <tr>\n",
              "      <th>0</th>\n",
              "      <td>Astor Pl</td>\n",
              "      <td>4-6-6 Express</td>\n",
              "      <td>(40.73005400028978, -73.99106999861966)</td>\n",
              "    </tr>\n",
              "    <tr>\n",
              "      <th>1</th>\n",
              "      <td>Canal St</td>\n",
              "      <td>4-6-6 Express</td>\n",
              "      <td>(40.71880300107709, -74.00019299927328)</td>\n",
              "    </tr>\n",
              "    <tr>\n",
              "      <th>2</th>\n",
              "      <td>50th St</td>\n",
              "      <td>1-2</td>\n",
              "      <td>(40.76172799961419, -73.98384899986625)</td>\n",
              "    </tr>\n",
              "    <tr>\n",
              "      <th>3</th>\n",
              "      <td>Bergen St</td>\n",
              "      <td>2-3-4</td>\n",
              "      <td>(40.68086213682956, -73.97499915116808)</td>\n",
              "    </tr>\n",
              "    <tr>\n",
              "      <th>4</th>\n",
              "      <td>Pennsylvania Ave</td>\n",
              "      <td>3-4</td>\n",
              "      <td>(40.66471445143568, -73.89488591154061)</td>\n",
              "    </tr>\n",
              "    <tr>\n",
              "      <th>5</th>\n",
              "      <td>238th St</td>\n",
              "      <td>1</td>\n",
              "      <td>(40.88466700064975, -73.90087000018522)</td>\n",
              "    </tr>\n",
              "    <tr>\n",
              "      <th>6</th>\n",
              "      <td>Cathedral Pkwy (110th St)</td>\n",
              "      <td>A-B-C</td>\n",
              "      <td>(40.800581558114956, -73.95806670661364)</td>\n",
              "    </tr>\n",
              "    <tr>\n",
              "      <th>7</th>\n",
              "      <td>Kingston - Throop Aves</td>\n",
              "      <td>A-C</td>\n",
              "      <td>(40.67991899941601, -73.94085899871263)</td>\n",
              "    </tr>\n",
              "    <tr>\n",
              "      <th>8</th>\n",
              "      <td>65th St</td>\n",
              "      <td>E-M-R</td>\n",
              "      <td>(40.74971952935675, -73.8987883783301)</td>\n",
              "    </tr>\n",
              "    <tr>\n",
              "      <th>9</th>\n",
              "      <td>36th St</td>\n",
              "      <td>E-M-R</td>\n",
              "      <td>(40.75196004401078, -73.92901818461539)</td>\n",
              "    </tr>\n",
              "    <tr>\n",
              "      <th>10</th>\n",
              "      <td>Delancey St - Essex St</td>\n",
              "      <td>J-M-Z</td>\n",
              "      <td>(40.71830605618619, -73.98740940202974)</td>\n",
              "    </tr>\n",
              "    <tr>\n",
              "      <th>11</th>\n",
              "      <td>Van Siclen Ave</td>\n",
              "      <td>J-Z</td>\n",
              "      <td>(40.67802821447783, -73.89165772702445)</td>\n",
              "    </tr>\n",
              "    <tr>\n",
              "      <th>12</th>\n",
              "      <td>Norwood Ave</td>\n",
              "      <td>J-Z</td>\n",
              "      <td>(40.68152000045683, -73.87962599910783)</td>\n",
              "    </tr>\n",
              "    <tr>\n",
              "      <th>13</th>\n",
              "      <td>104th-102nd Sts</td>\n",
              "      <td>J-Z</td>\n",
              "      <td>(40.69516599823373, -73.84443500029684)</td>\n",
              "    </tr>\n",
              "    <tr>\n",
              "      <th>14</th>\n",
              "      <td>DeKalb Ave</td>\n",
              "      <td>B-D-N-Q-R</td>\n",
              "      <td>(40.690648119969794, -73.98177094440949)</td>\n",
              "    </tr>\n",
              "    <tr>\n",
              "      <th>15</th>\n",
              "      <td>Beach 105th St</td>\n",
              "      <td>A-S</td>\n",
              "      <td>(40.58326843810286, -73.82758075034528)</td>\n",
              "    </tr>\n",
              "    <tr>\n",
              "      <th>16</th>\n",
              "      <td>Beach 90th St</td>\n",
              "      <td>A-S</td>\n",
              "      <td>(40.58809156457325, -73.81365140419632)</td>\n",
              "    </tr>\n",
              "    <tr>\n",
              "      <th>17</th>\n",
              "      <td>Freeman St</td>\n",
              "      <td>2-5</td>\n",
              "      <td>(40.829987446384116, -73.89175225349464)</td>\n",
              "    </tr>\n",
              "    <tr>\n",
              "      <th>18</th>\n",
              "      <td>Intervale Ave</td>\n",
              "      <td>2-5</td>\n",
              "      <td>(40.822142131170786, -73.89661738461646)</td>\n",
              "    </tr>\n",
              "    <tr>\n",
              "      <th>19</th>\n",
              "      <td>182nd-183rd Sts</td>\n",
              "      <td>B-D</td>\n",
              "      <td>(40.85609299881864, -73.90074099998965)</td>\n",
              "    </tr>\n",
              "  </tbody>\n",
              "</table>\n",
              "</div>"
            ],
            "text/plain": [
              "                         NAME  ...                                    coords\n",
              "0                    Astor Pl  ...   (40.73005400028978, -73.99106999861966)\n",
              "1                    Canal St  ...   (40.71880300107709, -74.00019299927328)\n",
              "2                     50th St  ...   (40.76172799961419, -73.98384899986625)\n",
              "3                   Bergen St  ...   (40.68086213682956, -73.97499915116808)\n",
              "4            Pennsylvania Ave  ...   (40.66471445143568, -73.89488591154061)\n",
              "5                    238th St  ...   (40.88466700064975, -73.90087000018522)\n",
              "6   Cathedral Pkwy (110th St)  ...  (40.800581558114956, -73.95806670661364)\n",
              "7      Kingston - Throop Aves  ...   (40.67991899941601, -73.94085899871263)\n",
              "8                     65th St  ...    (40.74971952935675, -73.8987883783301)\n",
              "9                     36th St  ...   (40.75196004401078, -73.92901818461539)\n",
              "10     Delancey St - Essex St  ...   (40.71830605618619, -73.98740940202974)\n",
              "11             Van Siclen Ave  ...   (40.67802821447783, -73.89165772702445)\n",
              "12                Norwood Ave  ...   (40.68152000045683, -73.87962599910783)\n",
              "13            104th-102nd Sts  ...   (40.69516599823373, -73.84443500029684)\n",
              "14                 DeKalb Ave  ...  (40.690648119969794, -73.98177094440949)\n",
              "15             Beach 105th St  ...   (40.58326843810286, -73.82758075034528)\n",
              "16              Beach 90th St  ...   (40.58809156457325, -73.81365140419632)\n",
              "17                 Freeman St  ...  (40.829987446384116, -73.89175225349464)\n",
              "18              Intervale Ave  ...  (40.822142131170786, -73.89661738461646)\n",
              "19            182nd-183rd Sts  ...   (40.85609299881864, -73.90074099998965)\n",
              "\n",
              "[20 rows x 3 columns]"
            ]
          },
          "metadata": {
            "tags": []
          },
          "execution_count": 22
        }
      ]
    },
    {
      "cell_type": "code",
      "metadata": {
        "id": "G3G8gY8edmUo",
        "colab_type": "code",
        "outputId": "dcab8546-f76a-4c92-9496-1478859e1c41",
        "colab": {
          "base_uri": "https://localhost:8080/",
          "height": 34
        }
      },
      "source": [
        "stat_loc_df.iloc[0,2]"
      ],
      "execution_count": 23,
      "outputs": [
        {
          "output_type": "execute_result",
          "data": {
            "text/plain": [
              "(40.73005400028978, -73.99106999861966)"
            ]
          },
          "metadata": {
            "tags": []
          },
          "execution_count": 23
        }
      ]
    },
    {
      "cell_type": "code",
      "metadata": {
        "id": "zDR2GLX4en1b",
        "colab_type": "code",
        "outputId": "01ebbc59-24a3-4eff-daf9-35491c226fa0",
        "colab": {
          "base_uri": "https://localhost:8080/",
          "height": 34
        }
      },
      "source": [
        "distance.distance(stat_loc_df.iloc[0,2],hosp_loc_df.iloc[0,2]).miles"
      ],
      "execution_count": 24,
      "outputs": [
        {
          "output_type": "execute_result",
          "data": {
            "text/plain": [
              "3.3877428119307282"
            ]
          },
          "metadata": {
            "tags": []
          },
          "execution_count": 24
        }
      ]
    },
    {
      "cell_type": "code",
      "metadata": {
        "id": "jsiLS84kO0fO",
        "colab_type": "code",
        "colab": {}
      },
      "source": [
        "# code to try the .apply(...) method to create a series of distances\n",
        "\n",
        "def get_minimum_distance(location1, location_series, max_dist = 10):\n",
        "  \"\"\"Takes a coordinate tuple for location1, \n",
        "  a series of location names and coord tuples,\n",
        "  and optionally a maximum distance.\n",
        "  Outputs a list containing the distance to and index of the closest location\n",
        "  in the series to location1.\"\"\"\n",
        "  dist = max_dist\n",
        "  coords = None\n",
        "  print(type(location_series))\n",
        "  for location in location_series:\n",
        "    mi_away = distance.distance(location1, location).miles\n",
        "    if mi_away < dist:\n",
        "      dist = mi_away\n",
        "      coords = location\n",
        "  return [dist, location_series[location_series == coords].index[0]]"
      ],
      "execution_count": 0,
      "outputs": []
    },
    {
      "cell_type": "code",
      "metadata": {
        "id": "6-clQ6QYU6Ib",
        "colab_type": "code",
        "outputId": "15917598-3cd5-42be-95c4-2c33b5732301",
        "colab": {
          "base_uri": "https://localhost:8080/",
          "height": 34
        }
      },
      "source": [
        "stat_loc_df.shape"
      ],
      "execution_count": 26,
      "outputs": [
        {
          "output_type": "execute_result",
          "data": {
            "text/plain": [
              "(473, 3)"
            ]
          },
          "metadata": {
            "tags": []
          },
          "execution_count": 26
        }
      ]
    },
    {
      "cell_type": "code",
      "metadata": {
        "id": "YdWveEXWZPyM",
        "colab_type": "code",
        "outputId": "9fce609a-78b1-4573-8275-a648c5e6eea6",
        "colab": {
          "base_uri": "https://localhost:8080/",
          "height": 51
        }
      },
      "source": [
        "test_list = get_minimum_distance(stat_loc_df.iloc[0,2], hosp_loc_df.iloc[:,2])\n",
        "test_list[1]"
      ],
      "execution_count": 36,
      "outputs": [
        {
          "output_type": "stream",
          "text": [
            "<class 'pandas.core.series.Series'>\n"
          ],
          "name": "stdout"
        },
        {
          "output_type": "execute_result",
          "data": {
            "text/plain": [
              "2352"
            ]
          },
          "metadata": {
            "tags": []
          },
          "execution_count": 36
        }
      ]
    },
    {
      "cell_type": "code",
      "metadata": {
        "id": "UtDyMucAneSU",
        "colab_type": "code",
        "colab": {
          "base_uri": "https://localhost:8080/",
          "height": 34
        },
        "outputId": "3b6241f5-8467-48c6-c17f-b6a6e3ba1ea5"
      },
      "source": [
        "# pull the name corresponding to that nearest hospital to station 0\n",
        "type(hosp_loc_df['NAME'].loc[test_list[1]])"
      ],
      "execution_count": 73,
      "outputs": [
        {
          "output_type": "execute_result",
          "data": {
            "text/plain": [
              "str"
            ]
          },
          "metadata": {
            "tags": []
          },
          "execution_count": 73
        }
      ]
    },
    {
      "cell_type": "markdown",
      "metadata": {
        "id": "E0p4OUzooBh9",
        "colab_type": "text"
      },
      "source": [
        "Somehow, I have to iterate over each location in the station location dataframe, run this function, push the returned distance into one new column and the name called back by index into a second new column. There should be a way to do this with .apply()."
      ]
    },
    {
      "cell_type": "markdown",
      "metadata": {
        "id": "glh9GEH5p1Sv",
        "colab_type": "text"
      },
      "source": [
        "Let's rewrite that function to make it easier."
      ]
    },
    {
      "cell_type": "code",
      "metadata": {
        "id": "7QSqpAK3pSXc",
        "colab_type": "code",
        "colab": {}
      },
      "source": [
        "def get_mindist_name(location1, loc_series, name_series, max_dist = 10):\n",
        "  \"\"\"Takes a coordinate tuple for location1, \n",
        "  a series of coord tuples, an identically indexed series of names,\n",
        "  and optionally a maximum distance.\n",
        "  Outputs a list containing the distance to and index of the closest location\n",
        "  in the series to location1.\"\"\"\n",
        "  dist = max_dist\n",
        "  coords = None\n",
        "  for location in loc_series:\n",
        "    mi_away = distance.distance(location1, location).miles\n",
        "    if mi_away < dist:\n",
        "      dist = mi_away\n",
        "      coords = location\n",
        "  name = name_series[loc_series[loc_series == coords].index[0]]\n",
        "  return [dist, name]"
      ],
      "execution_count": 0,
      "outputs": []
    },
    {
      "cell_type": "code",
      "metadata": {
        "id": "Bp4N413Eqj74",
        "colab_type": "code",
        "colab": {
          "base_uri": "https://localhost:8080/",
          "height": 374
        },
        "outputId": "72740a59-942c-4dfe-b9a1-9a719d41a5ce"
      },
      "source": [
        "stat_hosp_df = pd.DataFrame(stat_loc_df['coords'].apply(\n",
        "    get_mindist_name, loc_series = hosp_loc_df['coords'], name_series =\n",
        "    hosp_loc_df['NAME']).tolist())"
      ],
      "execution_count": 83,
      "outputs": [
        {
          "output_type": "error",
          "ename": "IndexError",
          "evalue": "ignored",
          "traceback": [
            "\u001b[0;31m---------------------------------------------------------------------------\u001b[0m",
            "\u001b[0;31mIndexError\u001b[0m                                Traceback (most recent call last)",
            "\u001b[0;32m<ipython-input-83-364576d35955>\u001b[0m in \u001b[0;36m<module>\u001b[0;34m()\u001b[0m\n\u001b[1;32m      1\u001b[0m stat_hosp_df = pd.DataFrame(stat_loc_df['coords'].apply(\n\u001b[1;32m      2\u001b[0m     \u001b[0mget_mindist_name\u001b[0m\u001b[0;34m,\u001b[0m \u001b[0mloc_series\u001b[0m \u001b[0;34m=\u001b[0m \u001b[0mhosp_loc_df\u001b[0m\u001b[0;34m[\u001b[0m\u001b[0;34m'coords'\u001b[0m\u001b[0;34m]\u001b[0m\u001b[0;34m,\u001b[0m \u001b[0mname_series\u001b[0m \u001b[0;34m=\u001b[0m\u001b[0;34m\u001b[0m\u001b[0;34m\u001b[0m\u001b[0m\n\u001b[0;32m----> 3\u001b[0;31m     hosp_loc_df['NAME']).tolist())\n\u001b[0m",
            "\u001b[0;32m/usr/local/lib/python3.6/dist-packages/pandas/core/series.py\u001b[0m in \u001b[0;36mapply\u001b[0;34m(self, func, convert_dtype, args, **kwds)\u001b[0m\n\u001b[1;32m   3846\u001b[0m             \u001b[0;32melse\u001b[0m\u001b[0;34m:\u001b[0m\u001b[0;34m\u001b[0m\u001b[0;34m\u001b[0m\u001b[0m\n\u001b[1;32m   3847\u001b[0m                 \u001b[0mvalues\u001b[0m \u001b[0;34m=\u001b[0m \u001b[0mself\u001b[0m\u001b[0;34m.\u001b[0m\u001b[0mastype\u001b[0m\u001b[0;34m(\u001b[0m\u001b[0mobject\u001b[0m\u001b[0;34m)\u001b[0m\u001b[0;34m.\u001b[0m\u001b[0mvalues\u001b[0m\u001b[0;34m\u001b[0m\u001b[0;34m\u001b[0m\u001b[0m\n\u001b[0;32m-> 3848\u001b[0;31m                 \u001b[0mmapped\u001b[0m \u001b[0;34m=\u001b[0m \u001b[0mlib\u001b[0m\u001b[0;34m.\u001b[0m\u001b[0mmap_infer\u001b[0m\u001b[0;34m(\u001b[0m\u001b[0mvalues\u001b[0m\u001b[0;34m,\u001b[0m \u001b[0mf\u001b[0m\u001b[0;34m,\u001b[0m \u001b[0mconvert\u001b[0m\u001b[0;34m=\u001b[0m\u001b[0mconvert_dtype\u001b[0m\u001b[0;34m)\u001b[0m\u001b[0;34m\u001b[0m\u001b[0;34m\u001b[0m\u001b[0m\n\u001b[0m\u001b[1;32m   3849\u001b[0m \u001b[0;34m\u001b[0m\u001b[0m\n\u001b[1;32m   3850\u001b[0m         \u001b[0;32mif\u001b[0m \u001b[0mlen\u001b[0m\u001b[0;34m(\u001b[0m\u001b[0mmapped\u001b[0m\u001b[0;34m)\u001b[0m \u001b[0;32mand\u001b[0m \u001b[0misinstance\u001b[0m\u001b[0;34m(\u001b[0m\u001b[0mmapped\u001b[0m\u001b[0;34m[\u001b[0m\u001b[0;36m0\u001b[0m\u001b[0;34m]\u001b[0m\u001b[0;34m,\u001b[0m \u001b[0mSeries\u001b[0m\u001b[0;34m)\u001b[0m\u001b[0;34m:\u001b[0m\u001b[0;34m\u001b[0m\u001b[0;34m\u001b[0m\u001b[0m\n",
            "\u001b[0;32mpandas/_libs/lib.pyx\u001b[0m in \u001b[0;36mpandas._libs.lib.map_infer\u001b[0;34m()\u001b[0m\n",
            "\u001b[0;32m/usr/local/lib/python3.6/dist-packages/pandas/core/series.py\u001b[0m in \u001b[0;36mf\u001b[0;34m(x)\u001b[0m\n\u001b[1;32m   3831\u001b[0m \u001b[0;34m\u001b[0m\u001b[0m\n\u001b[1;32m   3832\u001b[0m             \u001b[0;32mdef\u001b[0m \u001b[0mf\u001b[0m\u001b[0;34m(\u001b[0m\u001b[0mx\u001b[0m\u001b[0;34m)\u001b[0m\u001b[0;34m:\u001b[0m\u001b[0;34m\u001b[0m\u001b[0;34m\u001b[0m\u001b[0m\n\u001b[0;32m-> 3833\u001b[0;31m                 \u001b[0;32mreturn\u001b[0m \u001b[0mfunc\u001b[0m\u001b[0;34m(\u001b[0m\u001b[0mx\u001b[0m\u001b[0;34m,\u001b[0m \u001b[0;34m*\u001b[0m\u001b[0margs\u001b[0m\u001b[0;34m,\u001b[0m \u001b[0;34m**\u001b[0m\u001b[0mkwds\u001b[0m\u001b[0;34m)\u001b[0m\u001b[0;34m\u001b[0m\u001b[0;34m\u001b[0m\u001b[0m\n\u001b[0m\u001b[1;32m   3834\u001b[0m \u001b[0;34m\u001b[0m\u001b[0m\n\u001b[1;32m   3835\u001b[0m         \u001b[0;32melse\u001b[0m\u001b[0;34m:\u001b[0m\u001b[0;34m\u001b[0m\u001b[0;34m\u001b[0m\u001b[0m\n",
            "\u001b[0;32m<ipython-input-82-005901d4394e>\u001b[0m in \u001b[0;36mget_mindist_name\u001b[0;34m(location1, loc_series, name_series, max_dist)\u001b[0m\n\u001b[1;32m     12\u001b[0m       \u001b[0mdist\u001b[0m \u001b[0;34m=\u001b[0m \u001b[0mmi_away\u001b[0m\u001b[0;34m\u001b[0m\u001b[0;34m\u001b[0m\u001b[0m\n\u001b[1;32m     13\u001b[0m       \u001b[0mcoords\u001b[0m \u001b[0;34m=\u001b[0m \u001b[0mlocation\u001b[0m\u001b[0;34m\u001b[0m\u001b[0;34m\u001b[0m\u001b[0m\n\u001b[0;32m---> 14\u001b[0;31m   \u001b[0mname\u001b[0m \u001b[0;34m=\u001b[0m \u001b[0mname_series\u001b[0m\u001b[0;34m[\u001b[0m\u001b[0mloc_series\u001b[0m\u001b[0;34m[\u001b[0m\u001b[0mloc_series\u001b[0m \u001b[0;34m==\u001b[0m \u001b[0mcoords\u001b[0m\u001b[0;34m]\u001b[0m\u001b[0;34m.\u001b[0m\u001b[0mindex\u001b[0m\u001b[0;34m[\u001b[0m\u001b[0;36m0\u001b[0m\u001b[0;34m]\u001b[0m\u001b[0;34m]\u001b[0m\u001b[0;34m\u001b[0m\u001b[0;34m\u001b[0m\u001b[0m\n\u001b[0m\u001b[1;32m     15\u001b[0m   \u001b[0;32mreturn\u001b[0m \u001b[0;34m[\u001b[0m\u001b[0mdist\u001b[0m\u001b[0;34m,\u001b[0m \u001b[0mname\u001b[0m\u001b[0;34m]\u001b[0m\u001b[0;34m\u001b[0m\u001b[0;34m\u001b[0m\u001b[0m\n",
            "\u001b[0;32m/usr/local/lib/python3.6/dist-packages/pandas/core/indexes/base.py\u001b[0m in \u001b[0;36m__getitem__\u001b[0;34m(self, key)\u001b[0m\n\u001b[1;32m   3927\u001b[0m         \u001b[0;32mif\u001b[0m \u001b[0mis_scalar\u001b[0m\u001b[0;34m(\u001b[0m\u001b[0mkey\u001b[0m\u001b[0;34m)\u001b[0m\u001b[0;34m:\u001b[0m\u001b[0;34m\u001b[0m\u001b[0;34m\u001b[0m\u001b[0m\n\u001b[1;32m   3928\u001b[0m             \u001b[0mkey\u001b[0m \u001b[0;34m=\u001b[0m \u001b[0mcom\u001b[0m\u001b[0;34m.\u001b[0m\u001b[0mcast_scalar_indexer\u001b[0m\u001b[0;34m(\u001b[0m\u001b[0mkey\u001b[0m\u001b[0;34m)\u001b[0m\u001b[0;34m\u001b[0m\u001b[0;34m\u001b[0m\u001b[0m\n\u001b[0;32m-> 3929\u001b[0;31m             \u001b[0;32mreturn\u001b[0m \u001b[0mgetitem\u001b[0m\u001b[0;34m(\u001b[0m\u001b[0mkey\u001b[0m\u001b[0;34m)\u001b[0m\u001b[0;34m\u001b[0m\u001b[0;34m\u001b[0m\u001b[0m\n\u001b[0m\u001b[1;32m   3930\u001b[0m \u001b[0;34m\u001b[0m\u001b[0m\n\u001b[1;32m   3931\u001b[0m         \u001b[0;32mif\u001b[0m \u001b[0misinstance\u001b[0m\u001b[0;34m(\u001b[0m\u001b[0mkey\u001b[0m\u001b[0;34m,\u001b[0m \u001b[0mslice\u001b[0m\u001b[0;34m)\u001b[0m\u001b[0;34m:\u001b[0m\u001b[0;34m\u001b[0m\u001b[0;34m\u001b[0m\u001b[0m\n",
            "\u001b[0;31mIndexError\u001b[0m: index 0 is out of bounds for axis 0 with size 0"
          ]
        }
      ]
    },
    {
      "cell_type": "code",
      "metadata": {
        "id": "4hcLRAVVtzU4",
        "colab_type": "code",
        "colab": {
          "base_uri": "https://localhost:8080/",
          "height": 142
        },
        "outputId": "9b52cc84-1fe9-4df1-ec59-58d65edf9ea5"
      },
      "source": [
        "stat_hosp_df.head(3)"
      ],
      "execution_count": 76,
      "outputs": [
        {
          "output_type": "execute_result",
          "data": {
            "text/html": [
              "<div>\n",
              "<style scoped>\n",
              "    .dataframe tbody tr th:only-of-type {\n",
              "        vertical-align: middle;\n",
              "    }\n",
              "\n",
              "    .dataframe tbody tr th {\n",
              "        vertical-align: top;\n",
              "    }\n",
              "\n",
              "    .dataframe thead th {\n",
              "        text-align: right;\n",
              "    }\n",
              "</style>\n",
              "<table border=\"1\" class=\"dataframe\">\n",
              "  <thead>\n",
              "    <tr style=\"text-align: right;\">\n",
              "      <th></th>\n",
              "      <th>0</th>\n",
              "      <th>1</th>\n",
              "    </tr>\n",
              "  </thead>\n",
              "  <tbody>\n",
              "    <tr>\n",
              "      <th>0</th>\n",
              "      <td>0.367354</td>\n",
              "      <td>2352    NEW YORK EYE AND EAR INFIRMARY\n",
              "Name: N...</td>\n",
              "    </tr>\n",
              "    <tr>\n",
              "      <th>1</th>\n",
              "      <td>0.631470</td>\n",
              "      <td>5165    NEW YORK-PRESBYTERIAN/LOWER MANHATTAN ...</td>\n",
              "    </tr>\n",
              "    <tr>\n",
              "      <th>2</th>\n",
              "      <td>0.588702</td>\n",
              "      <td>5163    MOUNT SINAI WEST\n",
              "Name: NAME, dtype: ob...</td>\n",
              "    </tr>\n",
              "  </tbody>\n",
              "</table>\n",
              "</div>"
            ],
            "text/plain": [
              "          0                                                  1\n",
              "0  0.367354  2352    NEW YORK EYE AND EAR INFIRMARY\n",
              "Name: N...\n",
              "1  0.631470  5165    NEW YORK-PRESBYTERIAN/LOWER MANHATTAN ...\n",
              "2  0.588702  5163    MOUNT SINAI WEST\n",
              "Name: NAME, dtype: ob..."
            ]
          },
          "metadata": {
            "tags": []
          },
          "execution_count": 76
        }
      ]
    },
    {
      "cell_type": "code",
      "metadata": {
        "id": "NyNaY6msvPlF",
        "colab_type": "code",
        "colab": {
          "base_uri": "https://localhost:8080/",
          "height": 359
        },
        "outputId": "e0ef7b29-4574-4e86-e510-49f51eee0413"
      },
      "source": [
        "stat_hosp_full_df = pd.concat([stat_loc_df, stat_hosp_df], axis=1, sort=False)\n",
        "stat_hosp_full_df.sample(10)"
      ],
      "execution_count": 53,
      "outputs": [
        {
          "output_type": "execute_result",
          "data": {
            "text/html": [
              "<div>\n",
              "<style scoped>\n",
              "    .dataframe tbody tr th:only-of-type {\n",
              "        vertical-align: middle;\n",
              "    }\n",
              "\n",
              "    .dataframe tbody tr th {\n",
              "        vertical-align: top;\n",
              "    }\n",
              "\n",
              "    .dataframe thead th {\n",
              "        text-align: right;\n",
              "    }\n",
              "</style>\n",
              "<table border=\"1\" class=\"dataframe\">\n",
              "  <thead>\n",
              "    <tr style=\"text-align: right;\">\n",
              "      <th></th>\n",
              "      <th>NAME</th>\n",
              "      <th>lines</th>\n",
              "      <th>coords</th>\n",
              "      <th>0</th>\n",
              "      <th>1</th>\n",
              "    </tr>\n",
              "  </thead>\n",
              "  <tbody>\n",
              "    <tr>\n",
              "      <th>411</th>\n",
              "      <td>163rd St - Amsterdam Av</td>\n",
              "      <td>A-C</td>\n",
              "      <td>(40.83601299923096, -73.93989200188344)</td>\n",
              "      <td>0.268848</td>\n",
              "      <td>5994    NEW YORK PRESBYTERIAN MORGAN STANLEY C...</td>\n",
              "    </tr>\n",
              "    <tr>\n",
              "      <th>187</th>\n",
              "      <td>169th St</td>\n",
              "      <td>F</td>\n",
              "      <td>(40.710517502784, -73.79347419927721)</td>\n",
              "      <td>8.984417</td>\n",
              "      <td>2914    MANHATTAN PSYCHIATRIC CENTER\n",
              "Name: NAM...</td>\n",
              "    </tr>\n",
              "    <tr>\n",
              "      <th>248</th>\n",
              "      <td>Elder Ave</td>\n",
              "      <td>6</td>\n",
              "      <td>(40.82858400108929, -73.87915899874777)</td>\n",
              "      <td>3.331890</td>\n",
              "      <td>6012    HARLEM HOSPITAL CENTER\n",
              "Name: NAME, dty...</td>\n",
              "    </tr>\n",
              "    <tr>\n",
              "      <th>350</th>\n",
              "      <td>Lexington Ave - 63rd St</td>\n",
              "      <td>F-Q</td>\n",
              "      <td>(40.76461809442373, -73.96608964413245)</td>\n",
              "      <td>0.498672</td>\n",
              "      <td>6396    MEMORIAL HOSPITAL FOR CANCER AND ALLIE...</td>\n",
              "    </tr>\n",
              "    <tr>\n",
              "      <th>289</th>\n",
              "      <td>3rd Ave - 149th St</td>\n",
              "      <td>2-5</td>\n",
              "      <td>(40.816029252510006, -73.91779152760981)</td>\n",
              "      <td>1.163393</td>\n",
              "      <td>6012    HARLEM HOSPITAL CENTER\n",
              "Name: NAME, dty...</td>\n",
              "    </tr>\n",
              "    <tr>\n",
              "      <th>421</th>\n",
              "      <td>Rector St</td>\n",
              "      <td>R-W</td>\n",
              "      <td>(40.707744756294474, -74.01297456253795)</td>\n",
              "      <td>0.446173</td>\n",
              "      <td>5165    NEW YORK-PRESBYTERIAN/LOWER MANHATTAN ...</td>\n",
              "    </tr>\n",
              "    <tr>\n",
              "      <th>39</th>\n",
              "      <td>Gun Hill Rd</td>\n",
              "      <td>2-5</td>\n",
              "      <td>(40.877839385172024, -73.86613410538703)</td>\n",
              "      <td>2.477449</td>\n",
              "      <td>5155    NEW YORK PRESBYTERIAN HOSPITAL - ALLEN...</td>\n",
              "    </tr>\n",
              "    <tr>\n",
              "      <th>111</th>\n",
              "      <td>Church Ave</td>\n",
              "      <td>B-Q</td>\n",
              "      <td>(40.65049324646484, -73.96288246192114)</td>\n",
              "      <td>4.703028</td>\n",
              "      <td>5165    NEW YORK-PRESBYTERIAN/LOWER MANHATTAN ...</td>\n",
              "    </tr>\n",
              "    <tr>\n",
              "      <th>215</th>\n",
              "      <td>Livonia Ave</td>\n",
              "      <td>L</td>\n",
              "      <td>(40.66405727094644, -73.90056237226057)</td>\n",
              "      <td>6.367198</td>\n",
              "      <td>5165    NEW YORK-PRESBYTERIAN/LOWER MANHATTAN ...</td>\n",
              "    </tr>\n",
              "    <tr>\n",
              "      <th>293</th>\n",
              "      <td>40th St</td>\n",
              "      <td>7</td>\n",
              "      <td>(40.74378100149132, -73.9240159984882)</td>\n",
              "      <td>2.081664</td>\n",
              "      <td>2350    HOSPITAL FOR SPECIAL SURGERY\n",
              "Name: NAM...</td>\n",
              "    </tr>\n",
              "  </tbody>\n",
              "</table>\n",
              "</div>"
            ],
            "text/plain": [
              "                        NAME  ...                                                  1\n",
              "411  163rd St - Amsterdam Av  ...  5994    NEW YORK PRESBYTERIAN MORGAN STANLEY C...\n",
              "187                 169th St  ...  2914    MANHATTAN PSYCHIATRIC CENTER\n",
              "Name: NAM...\n",
              "248                Elder Ave  ...  6012    HARLEM HOSPITAL CENTER\n",
              "Name: NAME, dty...\n",
              "350  Lexington Ave - 63rd St  ...  6396    MEMORIAL HOSPITAL FOR CANCER AND ALLIE...\n",
              "289       3rd Ave - 149th St  ...  6012    HARLEM HOSPITAL CENTER\n",
              "Name: NAME, dty...\n",
              "421                Rector St  ...  5165    NEW YORK-PRESBYTERIAN/LOWER MANHATTAN ...\n",
              "39               Gun Hill Rd  ...  5155    NEW YORK PRESBYTERIAN HOSPITAL - ALLEN...\n",
              "111               Church Ave  ...  5165    NEW YORK-PRESBYTERIAN/LOWER MANHATTAN ...\n",
              "215              Livonia Ave  ...  5165    NEW YORK-PRESBYTERIAN/LOWER MANHATTAN ...\n",
              "293                  40th St  ...  2350    HOSPITAL FOR SPECIAL SURGERY\n",
              "Name: NAM...\n",
              "\n",
              "[10 rows x 5 columns]"
            ]
          },
          "metadata": {
            "tags": []
          },
          "execution_count": 53
        }
      ]
    },
    {
      "cell_type": "code",
      "metadata": {
        "id": "LMV9bJrM37eF",
        "colab_type": "code",
        "colab": {
          "base_uri": "https://localhost:8080/",
          "height": 142
        },
        "outputId": "46793809-9374-4dd8-c883-8e5ed4e2135b"
      },
      "source": [
        "stat_hosp_full_df.columns = ['Station Name', 'Lines', 'Lat / Long', 'Hospital Distance (mi)', 'Hospital ID']\n",
        "stat_hosp_full_df.tail(3)"
      ],
      "execution_count": 85,
      "outputs": [
        {
          "output_type": "execute_result",
          "data": {
            "text/html": [
              "<div>\n",
              "<style scoped>\n",
              "    .dataframe tbody tr th:only-of-type {\n",
              "        vertical-align: middle;\n",
              "    }\n",
              "\n",
              "    .dataframe tbody tr th {\n",
              "        vertical-align: top;\n",
              "    }\n",
              "\n",
              "    .dataframe thead th {\n",
              "        text-align: right;\n",
              "    }\n",
              "</style>\n",
              "<table border=\"1\" class=\"dataframe\">\n",
              "  <thead>\n",
              "    <tr style=\"text-align: right;\">\n",
              "      <th></th>\n",
              "      <th>Station Name</th>\n",
              "      <th>Lines</th>\n",
              "      <th>Lat / Long</th>\n",
              "      <th>Hospital Distance (mi)</th>\n",
              "      <th>Hospital ID</th>\n",
              "    </tr>\n",
              "  </thead>\n",
              "  <tbody>\n",
              "    <tr>\n",
              "      <th>470</th>\n",
              "      <td>72nd St</td>\n",
              "      <td>Q</td>\n",
              "      <td>(40.76880251014895, -73.95836178682246)</td>\n",
              "      <td>0.287176</td>\n",
              "      <td>1153    GRACIE SQUARE HOSPITAL\n",
              "Name: NAME, dty...</td>\n",
              "    </tr>\n",
              "    <tr>\n",
              "      <th>471</th>\n",
              "      <td>86th St</td>\n",
              "      <td>Q</td>\n",
              "      <td>(40.77786104333163, -73.95177090964917)</td>\n",
              "      <td>0.557846</td>\n",
              "      <td>5143    LENOX HILL HOSPITAL\n",
              "Name: NAME, dtype:...</td>\n",
              "    </tr>\n",
              "    <tr>\n",
              "      <th>472</th>\n",
              "      <td>96th St</td>\n",
              "      <td>Q</td>\n",
              "      <td>(40.784236650177654, -73.9470660219183)</td>\n",
              "      <td>0.141272</td>\n",
              "      <td>2351    METROPOLITAN HOSPITAL CENTER\n",
              "Name: NAM...</td>\n",
              "    </tr>\n",
              "  </tbody>\n",
              "</table>\n",
              "</div>"
            ],
            "text/plain": [
              "    Station Name  ...                                        Hospital ID\n",
              "470      72nd St  ...  1153    GRACIE SQUARE HOSPITAL\n",
              "Name: NAME, dty...\n",
              "471      86th St  ...  5143    LENOX HILL HOSPITAL\n",
              "Name: NAME, dtype:...\n",
              "472      96th St  ...  2351    METROPOLITAN HOSPITAL CENTER\n",
              "Name: NAM...\n",
              "\n",
              "[3 rows x 5 columns]"
            ]
          },
          "metadata": {
            "tags": []
          },
          "execution_count": 85
        }
      ]
    },
    {
      "cell_type": "code",
      "metadata": {
        "id": "q2zl0Gog4ioN",
        "colab_type": "code",
        "colab": {}
      },
      "source": [
        "stat_hosp_full_df.to_csv('/content/drive/My Drive/Metis Spring 2020/station_hospital_distances.csv')"
      ],
      "execution_count": 0,
      "outputs": []
    }
  ]
}