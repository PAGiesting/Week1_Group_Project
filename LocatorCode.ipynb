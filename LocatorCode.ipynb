{
 "cells": [
  {
   "cell_type": "code",
   "execution_count": null,
   "metadata": {
    "colab": {},
    "colab_type": "code",
    "id": "5U9eygL2ZM2x"
   },
   "outputs": [],
   "source": [
    "# !pip freeze\n",
    "# would check the name & version of all libraries available for import"
   ]
  },
  {
   "cell_type": "code",
   "execution_count": null,
   "metadata": {
    "colab": {
     "base_uri": "https://localhost:8080/",
     "height": 122
    },
    "colab_type": "code",
    "id": "15XelMZgDT2t",
    "outputId": "2f7137f8-4cf1-42b2-d7d3-689e308db953"
   },
   "outputs": [],
   "source": [
    "import pandas as pd\n",
    "from geopy import distance"
   ]
  },
  {
   "cell_type": "code",
   "execution_count": null,
   "metadata": {
    "colab": {
     "base_uri": "https://localhost:8080/",
     "height": 629
    },
    "colab_type": "code",
    "id": "d3AsBkZsD-BV",
    "outputId": "1b5c7cdc-3197-4792-c76e-1600dabfb74f"
   },
   "outputs": [],
   "source": [
    "df = pd.read_csv('/content/drive/My Drive/Metis Spring 2020/Hospitals.csv')\n",
    "df_hosp = df.loc[(df.COUNTY == 'NEW YORK')]\n",
    "df_hosp.sample(6)"
   ]
  },
  {
   "cell_type": "code",
   "execution_count": null,
   "metadata": {
    "colab": {},
    "colab_type": "code",
    "id": "dDlUUbsjFd_F"
   },
   "outputs": [],
   "source": [
    "stat_df = pd.read_csv('/content/drive/My Drive/Metis Spring 2020/MTAstations.csv')"
   ]
  },
  {
   "cell_type": "code",
   "execution_count": null,
   "metadata": {
    "colab": {
     "base_uri": "https://localhost:8080/",
     "height": 119
    },
    "colab_type": "code",
    "id": "87JwRQ6mE5ki",
    "outputId": "c7e2ad84-bce1-4616-9c52-bef53795bd8c"
   },
   "outputs": [],
   "source": [
    "stat_df['the_geom'].tail()"
   ]
  },
  {
   "cell_type": "code",
   "execution_count": null,
   "metadata": {
    "colab": {},
    "colab_type": "code",
    "id": "qDDsTFB9KN7_"
   },
   "outputs": [],
   "source": [
    "stat_coords_df = pd.DataFrame(stat_df.the_geom.str.split(' ',2).tolist(), columns = ['junk','long','lat'])"
   ]
  },
  {
   "cell_type": "code",
   "execution_count": null,
   "metadata": {
    "colab": {
     "base_uri": "https://localhost:8080/",
     "height": 204
    },
    "colab_type": "code",
    "id": "k5__vmVcMy1I",
    "outputId": "bb150202-12d1-4604-8733-2ea36c0a2d9d"
   },
   "outputs": [],
   "source": [
    "stat_coords_df.tail()"
   ]
  },
  {
   "cell_type": "code",
   "execution_count": null,
   "metadata": {
    "colab": {
     "base_uri": "https://localhost:8080/",
     "height": 142
    },
    "colab_type": "code",
    "id": "XmkmNcCtfUas",
    "outputId": "e01af8c8-48f4-4456-c07b-780d0be7c8f1"
   },
   "outputs": [],
   "source": [
    "stat_df['long'] = pd.Series(stat_coords_df.long.str.strip('(')).astype(float)\n",
    "stat_df['lat'] = pd.Series(stat_coords_df.lat.str.strip(')')).astype(float)\n",
    "stat_df.tail(3)"
   ]
  },
  {
   "cell_type": "code",
   "execution_count": null,
   "metadata": {
    "colab": {
     "base_uri": "https://localhost:8080/",
     "height": 289
    },
    "colab_type": "code",
    "id": "baYtL-jTgzh_",
    "outputId": "bc238967-6a61-4725-e33b-b21cc0800987"
   },
   "outputs": [],
   "source": [
    "stat_df.head()"
   ]
  },
  {
   "cell_type": "code",
   "execution_count": null,
   "metadata": {
    "colab": {
     "base_uri": "https://localhost:8080/",
     "height": 119
    },
    "colab_type": "code",
    "id": "Q-XvlHKIkrxj",
    "outputId": "8fdb6eb0-69e9-44f8-c40b-6d1345dcd2d3"
   },
   "outputs": [],
   "source": [
    "stat_loc = pd.Series(zip(stat_df.lat, stat_df.long))\n",
    "stat_loc.head()"
   ]
  },
  {
   "cell_type": "code",
   "execution_count": null,
   "metadata": {
    "colab": {
     "base_uri": "https://localhost:8080/",
     "height": 204
    },
    "colab_type": "code",
    "id": "OUPef2fGlO3H",
    "outputId": "29e9bff9-202e-4599-8520-3a96bb7037fe"
   },
   "outputs": [],
   "source": [
    "stat_loc_df = pd.DataFrame(stat_df['NAME'])\n",
    "stat_loc_df.head()"
   ]
  },
  {
   "cell_type": "code",
   "execution_count": null,
   "metadata": {
    "colab": {
     "base_uri": "https://localhost:8080/",
     "height": 204
    },
    "colab_type": "code",
    "id": "ayFSCyeImcvp",
    "outputId": "39746ed6-5a03-488f-96af-a011648cb28f"
   },
   "outputs": [],
   "source": [
    "stat_loc_df['lines'] = stat_df['LINE']\n",
    "stat_loc_df['coords'] = stat_loc\n",
    "stat_loc_df.head()"
   ]
  },
  {
   "cell_type": "markdown",
   "metadata": {
    "colab_type": "text",
    "id": "yaTpyBq1m5Zv"
   },
   "source": [
    "Right. Haven't been doing any kind of job of commenting thus far. I have so far pulled in both the hospital and the MTA station location data and have cleaned up the latter to form ordered pairs suitable for geopy. I need to do that for the hospital data as well, then get to work writing a routine for finding the shortest distance from a station to one of the hospitals on the list.\n",
    "\n",
    "We can either pick out the additional hospitals from Kings and Queens counties and whatever county names the Bronx and Staten Island have, or we can confine the station data to just Manhattan Island by finding some code somewhere that identifies points within a given polygon. PAG"
   ]
  },
  {
   "cell_type": "markdown",
   "metadata": {
    "colab_type": "text",
    "id": "ktq9BRhZp-g8"
   },
   "source": [
    "First, let's knock out the closed hospitals."
   ]
  },
  {
   "cell_type": "code",
   "execution_count": null,
   "metadata": {
    "colab": {
     "base_uri": "https://localhost:8080/",
     "height": 34
    },
    "colab_type": "code",
    "id": "KfBoSGdknui9",
    "outputId": "6d8efc7d-0191-427b-a7ff-945168d02eb4"
   },
   "outputs": [],
   "source": [
    "still_open = (df_hosp.STATUS == 'OPEN')\n",
    "still_open[5995] # The Addiction Institute of New York, which I noticed was \n",
    "                 # closed in my sample"
   ]
  },
  {
   "cell_type": "code",
   "execution_count": null,
   "metadata": {
    "colab": {
     "base_uri": "https://localhost:8080/",
     "height": 51
    },
    "colab_type": "code",
    "id": "mz5y_VJypN7z",
    "outputId": "2ba6b981-72b7-469e-e2cb-fb2bbfefe5ff"
   },
   "outputs": [],
   "source": [
    "df_hosp_open = df_hosp[still_open]\n",
    "print(df_hosp.shape)\n",
    "df_hosp_open.shape"
   ]
  },
  {
   "cell_type": "code",
   "execution_count": null,
   "metadata": {
    "colab": {
     "base_uri": "https://localhost:8080/",
     "height": 318
    },
    "colab_type": "code",
    "id": "IJ6-sWPAqILJ",
    "outputId": "5d7d3a81-2209-486e-f64a-8ffd61d46bab"
   },
   "outputs": [],
   "source": [
    "df_hosp_open.head(2)"
   ]
  },
  {
   "cell_type": "markdown",
   "metadata": {
    "colab_type": "text",
    "id": "NMhDK82rqwSd"
   },
   "source": [
    "Now we'll zip up the coordinates for the hospital locations just like we did for station locations. The only problem is the indexing."
   ]
  },
  {
   "cell_type": "code",
   "execution_count": null,
   "metadata": {
    "colab": {
     "base_uri": "https://localhost:8080/",
     "height": 119
    },
    "colab_type": "code",
    "id": "HoJSk7CYqTAt",
    "outputId": "d8d7a649-b88c-43f6-f433-26fb83adad2b"
   },
   "outputs": [],
   "source": [
    "hosp_loc = pd.Series(zip(df_hosp_open.Y, df_hosp_open.X), index = df_hosp_open.index)\n",
    "hosp_loc.head()"
   ]
  },
  {
   "cell_type": "code",
   "execution_count": null,
   "metadata": {
    "colab": {},
    "colab_type": "code",
    "id": "Wmsk8vN6qtbd"
   },
   "outputs": [],
   "source": [
    "hosp_loc_df = pd.DataFrame(df_hosp_open['NAME'])\n",
    "hosp_loc_df['address'] = df_hosp_open['ADDRESS']\n",
    "hosp_loc_df['coords'] = hosp_loc"
   ]
  },
  {
   "cell_type": "code",
   "execution_count": null,
   "metadata": {
    "colab": {
     "base_uri": "https://localhost:8080/",
     "height": 204
    },
    "colab_type": "code",
    "id": "haPsDEGerQIk",
    "outputId": "cc69c93f-a46a-4439-9f62-a5567b24dc45"
   },
   "outputs": [],
   "source": [
    "hosp_loc_df.head()"
   ]
  },
  {
   "cell_type": "markdown",
   "metadata": {
    "colab_type": "text",
    "id": "V1C0WIeB0wFm"
   },
   "source": []
  },
  {
   "cell_type": "code",
   "execution_count": null,
   "metadata": {
    "colab": {
     "base_uri": "https://localhost:8080/",
     "height": 187
    },
    "colab_type": "code",
    "id": "jmwynUwX0wuS",
    "outputId": "b12c9825-9670-469b-83b3-2ef648e4a05f"
   },
   "outputs": [],
   "source": [
    "hosp_loc_df.info()"
   ]
  },
  {
   "cell_type": "markdown",
   "metadata": {
    "colab_type": "text",
    "id": "_58qpEBjsMY-"
   },
   "source": [
    "Now the task is basically to create columns in the station dataframe with the name and distance of the closest hospital to each station. Iterate over each station, find the distance to each hospital, save the name and distance of the closest hospital in the station dataframe."
   ]
  },
  {
   "cell_type": "code",
   "execution_count": null,
   "metadata": {
    "colab": {
     "base_uri": "https://localhost:8080/",
     "height": 221
    },
    "colab_type": "code",
    "id": "j1wuFdFXcTsO",
    "outputId": "878545b0-b721-4b7f-83d6-88e3c70c79d6"
   },
   "outputs": [],
   "source": [
    "# first let's see if we can get a single freaking distance\n",
    "\n",
    "stat_loc_df['coords']"
   ]
  },
  {
   "cell_type": "code",
   "execution_count": null,
   "metadata": {
    "colab": {
     "base_uri": "https://localhost:8080/",
     "height": 669
    },
    "colab_type": "code",
    "id": "OnS3T_KQdMbw",
    "outputId": "2ee962b0-224a-4a9b-ce75-3bcd63c566d1"
   },
   "outputs": [],
   "source": [
    "stat_loc_df[0:20]"
   ]
  },
  {
   "cell_type": "code",
   "execution_count": null,
   "metadata": {
    "colab": {
     "base_uri": "https://localhost:8080/",
     "height": 34
    },
    "colab_type": "code",
    "id": "G3G8gY8edmUo",
    "outputId": "dcab8546-f76a-4c92-9496-1478859e1c41"
   },
   "outputs": [],
   "source": [
    "stat_loc_df.iloc[0,2]"
   ]
  },
  {
   "cell_type": "code",
   "execution_count": null,
   "metadata": {
    "colab": {
     "base_uri": "https://localhost:8080/",
     "height": 34
    },
    "colab_type": "code",
    "id": "zDR2GLX4en1b",
    "outputId": "01ebbc59-24a3-4eff-daf9-35491c226fa0"
   },
   "outputs": [],
   "source": [
    "distance.distance(stat_loc_df.iloc[0,2],hosp_loc_df.iloc[0,2]).miles"
   ]
  },
  {
   "cell_type": "code",
   "execution_count": null,
   "metadata": {
    "colab": {},
    "colab_type": "code",
    "id": "jsiLS84kO0fO"
   },
   "outputs": [],
   "source": [
    "# code to try the .apply(...) method to create a series of distances\n",
    "\n",
    "def get_minimum_distance(location1, location_series, max_dist = 10):\n",
    "  \"\"\"Takes a coordinate tuple for location1, \n",
    "  a series of location names and coord tuples,\n",
    "  and optionally a maximum distance.\n",
    "  Outputs a list containing the distance to and index of the closest location\n",
    "  in the series to location1.\"\"\"\n",
    "  dist = max_dist\n",
    "  coords = None\n",
    "  print(type(location_series))\n",
    "  for location in location_series:\n",
    "    mi_away = distance.distance(location1, location).miles\n",
    "    if mi_away < dist:\n",
    "      dist = mi_away\n",
    "      coords = location\n",
    "  return [dist, location_series[location_series == coords].index[0]]"
   ]
  },
  {
   "cell_type": "code",
   "execution_count": null,
   "metadata": {
    "colab": {
     "base_uri": "https://localhost:8080/",
     "height": 34
    },
    "colab_type": "code",
    "id": "6-clQ6QYU6Ib",
    "outputId": "15917598-3cd5-42be-95c4-2c33b5732301"
   },
   "outputs": [],
   "source": [
    "stat_loc_df.shape"
   ]
  },
  {
   "cell_type": "code",
   "execution_count": null,
   "metadata": {
    "colab": {
     "base_uri": "https://localhost:8080/",
     "height": 51
    },
    "colab_type": "code",
    "id": "YdWveEXWZPyM",
    "outputId": "9fce609a-78b1-4573-8275-a648c5e6eea6"
   },
   "outputs": [],
   "source": [
    "test_list = get_minimum_distance(stat_loc_df.iloc[0,2], hosp_loc_df.iloc[:,2])\n",
    "test_list[1]"
   ]
  },
  {
   "cell_type": "code",
   "execution_count": null,
   "metadata": {
    "colab": {
     "base_uri": "https://localhost:8080/",
     "height": 34
    },
    "colab_type": "code",
    "id": "UtDyMucAneSU",
    "outputId": "3b6241f5-8467-48c6-c17f-b6a6e3ba1ea5"
   },
   "outputs": [],
   "source": [
    "# pull the name corresponding to that nearest hospital to station 0\n",
    "type(hosp_loc_df['NAME'].loc[test_list[1]])"
   ]
  },
  {
   "cell_type": "markdown",
   "metadata": {
    "colab_type": "text",
    "id": "E0p4OUzooBh9"
   },
   "source": [
    "Somehow, I have to iterate over each location in the station location dataframe, run this function, push the returned distance into one new column and the name called back by index into a second new column. There should be a way to do this with .apply()."
   ]
  },
  {
   "cell_type": "markdown",
   "metadata": {
    "colab_type": "text",
    "id": "glh9GEH5p1Sv"
   },
   "source": [
    "Let's rewrite that function to make it easier."
   ]
  },
  {
   "cell_type": "code",
   "execution_count": null,
   "metadata": {
    "colab": {},
    "colab_type": "code",
    "id": "7QSqpAK3pSXc"
   },
   "outputs": [],
   "source": [
    "def get_mindist_name(location1, loc_series, name_series, max_dist = 10):\n",
    "  \"\"\"Takes a coordinate tuple for location1, \n",
    "  a series of coord tuples, an identically indexed series of names,\n",
    "  and optionally a maximum distance.\n",
    "  Outputs a list containing the distance to and index of the closest location\n",
    "  in the series to location1.\"\"\"\n",
    "  dist = max_dist\n",
    "  coords = None\n",
    "  for location in loc_series:\n",
    "    mi_away = distance.distance(location1, location).miles\n",
    "    if mi_away < dist:\n",
    "      dist = mi_away\n",
    "      coords = location\n",
    "  name = name_series[loc_series[loc_series == coords].index[0]]\n",
    "  return [dist, name]"
   ]
  },
  {
   "cell_type": "code",
   "execution_count": null,
   "metadata": {
    "colab": {
     "base_uri": "https://localhost:8080/",
     "height": 374
    },
    "colab_type": "code",
    "id": "Bp4N413Eqj74",
    "outputId": "72740a59-942c-4dfe-b9a1-9a719d41a5ce"
   },
   "outputs": [],
   "source": [
    "stat_hosp_df = pd.DataFrame(stat_loc_df['coords'].apply(\n",
    "    get_mindist_name, loc_series = hosp_loc_df['coords'], name_series =\n",
    "    hosp_loc_df['NAME']).tolist())"
   ]
  },
  {
   "cell_type": "code",
   "execution_count": null,
   "metadata": {
    "colab": {
     "base_uri": "https://localhost:8080/",
     "height": 142
    },
    "colab_type": "code",
    "id": "4hcLRAVVtzU4",
    "outputId": "9b52cc84-1fe9-4df1-ec59-58d65edf9ea5"
   },
   "outputs": [],
   "source": [
    "stat_hosp_df.head(3)"
   ]
  },
  {
   "cell_type": "code",
   "execution_count": null,
   "metadata": {
    "colab": {
     "base_uri": "https://localhost:8080/",
     "height": 359
    },
    "colab_type": "code",
    "id": "NyNaY6msvPlF",
    "outputId": "e0ef7b29-4574-4e86-e510-49f51eee0413"
   },
   "outputs": [],
   "source": [
    "stat_hosp_full_df = pd.concat([stat_loc_df, stat_hosp_df], axis=1, sort=False)\n",
    "stat_hosp_full_df.sample(10)"
   ]
  },
  {
   "cell_type": "code",
   "execution_count": null,
   "metadata": {
    "colab": {
     "base_uri": "https://localhost:8080/",
     "height": 142
    },
    "colab_type": "code",
    "id": "LMV9bJrM37eF",
    "outputId": "46793809-9374-4dd8-c883-8e5ed4e2135b"
   },
   "outputs": [],
   "source": [
    "stat_hosp_full_df.columns = ['Station Name', 'Lines', 'Lat / Long', 'Hospital Distance (mi)', 'Hospital ID']\n",
    "stat_hosp_full_df.tail(3)"
   ]
  },
  {
   "cell_type": "code",
   "execution_count": null,
   "metadata": {
    "colab": {},
    "colab_type": "code",
    "id": "q2zl0Gog4ioN"
   },
   "outputs": [],
   "source": [
    "stat_hosp_full_df.to_csv('/content/drive/My Drive/Metis Spring 2020/station_hospital_distances.csv')"
   ]
  }
 ],
 "metadata": {
  "colab": {
   "collapsed_sections": [],
   "name": "LocatorCode.ipynb",
   "provenance": []
  },
  "kernelspec": {
   "display_name": "Python 3",
   "language": "python",
   "name": "python3"
  },
  "language_info": {
   "codemirror_mode": {
    "name": "ipython",
    "version": 3
   },
   "file_extension": ".py",
   "mimetype": "text/x-python",
   "name": "python",
   "nbconvert_exporter": "python",
   "pygments_lexer": "ipython3",
   "version": "3.7.4"
  }
 },
 "nbformat": 4,
 "nbformat_minor": 1
}
