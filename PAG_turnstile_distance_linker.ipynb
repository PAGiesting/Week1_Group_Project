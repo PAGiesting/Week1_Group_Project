{
 "cells": [
  {
   "cell_type": "code",
   "execution_count": 1,
   "metadata": {},
   "outputs": [],
   "source": [
    "import pandas as pd"
   ]
  },
  {
   "cell_type": "code",
   "execution_count": null,
   "metadata": {},
   "outputs": [],
   "source": [
    "turnstile_df = pd.read_csv('topstationsv2.csv')"
   ]
  },
  {
   "cell_type": "code",
   "execution_count": null,
   "metadata": {},
   "outputs": [],
   "source": [
    "turnstile_df.head()"
   ]
  },
  {
   "cell_type": "code",
   "execution_count": null,
   "metadata": {},
   "outputs": [],
   "source": [
    "linker_df = pd.read_csv('lookups.csv')"
   ]
  },
  {
   "cell_type": "code",
   "execution_count": null,
   "metadata": {},
   "outputs": [],
   "source": [
    "linker_df.head()"
   ]
  },
  {
   "cell_type": "code",
   "execution_count": null,
   "metadata": {},
   "outputs": [],
   "source": [
    "hosp_dist_df = pd.read_csv('station_hospital_distances.csv',index_col=0)\n",
    "hosp_dist_df.head()"
   ]
  },
  {
   "cell_type": "code",
   "execution_count": null,
   "metadata": {},
   "outputs": [],
   "source": [
    "hosp_dist_df['StatID'] = hosp_dist_df['Station Name']+' '+hosp_dist_df['Lines']\n",
    "hosp_dist_df.head()"
   ]
  },
  {
   "cell_type": "markdown",
   "metadata": {},
   "source": [
    "The code needs to accomplish the following:\n",
    "For each line in the turnstile dataframe,\n",
    "Take the STATION_LINE value,\n",
    "Look up the matching TurnstileID in the linker dataframe,\n",
    "Take the corresponding LocatorID in the linker dataframe,\n",
    "Look up the matching StatID in the hospital distance dataframe,\n",
    "Return the corresponding Hospital Distance (mi) and place that in the turnstile dataframe.\n",
    "\n",
    "Strategy: will be implemented as a function applied to the turnstile dataframe.\n",
    "Function will take a string, the linker and hospital distance dataframes.\n",
    "Will use the \".loc()\" functions to retrieve the data at each step.\n",
    "Convert TurnstileID to the linker's index and StatID to the hospital distance index."
   ]
  },
  {
   "cell_type": "code",
   "execution_count": null,
   "metadata": {},
   "outputs": [],
   "source": [
    "linker_df.set_index('TurnstileID',inplace=True)\n",
    "linker_df.head()"
   ]
  },
  {
   "cell_type": "code",
   "execution_count": null,
   "metadata": {},
   "outputs": [],
   "source": [
    "hosp_dist_df.set_index('StatID',inplace=True)\n",
    "hosp_dist_df.head()"
   ]
  },
  {
   "cell_type": "code",
   "execution_count": null,
   "metadata": {},
   "outputs": [],
   "source": [
    "def linkup(stat_string,link_df,hosp_df):\n",
    "    # must check for name in the linker lookup table\n",
    "    # if not, pass None for this distance\n",
    "    if stat_string in link_df['LocatorIDs']:\n",
    "        locator = link_df.loc[stat_string,'LocatorIDs']\n",
    "    else:\n",
    "        return None\n",
    "    dist = hosp_df.loc[locator,'Hospital Distance (mi)']\n",
    "    return dist"
   ]
  },
  {
   "cell_type": "code",
   "execution_count": null,
   "metadata": {},
   "outputs": [],
   "source": [
    "# name the new column according to Natalie's convention\n",
    "turnstile_df['MIN_HOSP_DIST'] = \\\n",
    "    turnstile_df.STATION_LINE.apply(linkup,link_df=linker_df,hosp_df=hosp_dist_df)\n",
    "turnstile_df.sample(10)"
   ]
  },
  {
   "cell_type": "code",
   "execution_count": null,
   "metadata": {},
   "outputs": [],
   "source": [
    "turnstile_df.sort_values('DAILY_ENTRIES',ascending=False)"
   ]
  },
  {
   "cell_type": "code",
   "execution_count": null,
   "metadata": {},
   "outputs": [],
   "source": []
  }
 ],
 "metadata": {
  "kernelspec": {
   "display_name": "Python 3",
   "language": "python",
   "name": "python3"
  },
  "language_info": {
   "codemirror_mode": {
    "name": "ipython",
    "version": 3
   },
   "file_extension": ".py",
   "mimetype": "text/x-python",
   "name": "python",
   "nbconvert_exporter": "python",
   "pygments_lexer": "ipython3",
   "version": "3.7.4"
  }
 },
 "nbformat": 4,
 "nbformat_minor": 4
}
